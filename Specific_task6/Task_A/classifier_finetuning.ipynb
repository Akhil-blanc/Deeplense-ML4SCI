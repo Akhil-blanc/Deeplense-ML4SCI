{
 "cells": [
  {
   "cell_type": "code",
   "execution_count": 3,
   "id": "6051dd3d",
   "metadata": {
    "execution": {
     "iopub.execute_input": "2025-03-27T23:07:06.413004Z",
     "iopub.status.busy": "2025-03-27T23:07:06.412808Z",
     "iopub.status.idle": "2025-03-27T23:07:13.989596Z",
     "shell.execute_reply": "2025-03-27T23:07:13.988863Z"
    },
    "papermill": {
     "duration": 7.582666,
     "end_time": "2025-03-27T23:07:13.991130",
     "exception": false,
     "start_time": "2025-03-27T23:07:06.408464",
     "status": "completed"
    },
    "tags": []
   },
   "outputs": [],
   "source": [
    "import torch\n",
    "import torch.nn as nn\n",
    "import torch.nn.functional as F\n",
    "import torchvision.transforms as transforms\n",
    "\n",
    "class CustomMAE(nn.Module):\n",
    "    def __init__(self, img_size=64, patch_size=8, embed_dim=512, num_heads=8, depth=6):\n",
    "        super(CustomMAE, self).__init__()\n",
    "\n",
    "        self.img_size = img_size\n",
    "        self.patch_size = patch_size\n",
    "        self.num_patches = (img_size // patch_size) ** 2\n",
    "        self.embed_dim = embed_dim\n",
    "\n",
    "        # Patch embedding (Linear Projection + Positional Encoding)\n",
    "        self.patch_embed = nn.Conv2d(1, embed_dim, kernel_size=patch_size, stride=patch_size)\n",
    "        self.pos_embed = nn.Parameter(torch.randn(1, self.num_patches, embed_dim))\n",
    "\n",
    "        # Transformer Encoder (Inspired by ViT)\n",
    "        self.encoder = nn.TransformerEncoder(\n",
    "            nn.TransformerEncoderLayer(d_model=embed_dim, nhead=num_heads, dim_feedforward=1024, dropout=0.1),\n",
    "            num_layers=depth\n",
    "        )\n",
    "\n",
    "        # Fully connected layer to reshape encoded features for decoding\n",
    "        # self.fc = nn.Linear(embed_dim, embed_dim * (patch_size // 2) * (patch_size // 2))\n",
    "\n",
    "        # Decoder with Up-Convolutions\n",
    "        self.decoder = nn.Sequential(\n",
    "            nn.ConvTranspose2d(embed_dim, 256, kernel_size=4, stride=2, padding=1),  # 8x8 → 16x16\n",
    "            nn.ReLU(),\n",
    "            nn.ConvTranspose2d(256, 128, kernel_size=4, stride=2, padding=1),  # 16x16 → 32x32\n",
    "            nn.ReLU(),\n",
    "            nn.ConvTranspose2d(128, 64, kernel_size=4, stride=2, padding=1),  # 32x32 → 64x64\n",
    "            nn.ReLU(),\n",
    "            nn.Conv2d(64, 1, kernel_size=3, stride=1, padding=1)  # Output: 64x64\n",
    "        )\n",
    "\n",
    "    def forward(self, x):\n",
    "        B, C, H, W = x.shape  # Bx1x64x64\n",
    "        patches = self.patch_embed(x).flatten(2).transpose(1, 2)  # Convert to patches\n",
    "        patches = patches + self.pos_embed  # Add positional embeddings\n",
    "        \n",
    "        # masked_patches = patches * mask.unsqueeze(-1)  # Apply mask\n",
    "\n",
    "        encoded = self.encoder(patches)  # Transformer encoding\n",
    "        # print(encoded.shape)\n",
    "\n",
    "        # Reshape for decoder\n",
    "        # encoded = self.fc(encoded)  # Fully connected to reshape embedding\n",
    "        encoded = encoded.view(B, self.embed_dim, H // self.patch_size, W // self.patch_size)\n",
    "\n",
    "        # Decode using up-convolutions\n",
    "        reconstructed_img = self.decoder(encoded)\n",
    "\n",
    "        return reconstructed_img\n"
   ]
  },
  {
   "cell_type": "code",
   "execution_count": 4,
   "id": "22aa3b6a",
   "metadata": {
    "execution": {
     "iopub.execute_input": "2025-03-27T23:07:14.000101Z",
     "iopub.status.busy": "2025-03-27T23:07:13.999776Z",
     "iopub.status.idle": "2025-03-27T23:07:17.219562Z",
     "shell.execute_reply": "2025-03-27T23:07:17.218712Z"
    },
    "papermill": {
     "duration": 3.225582,
     "end_time": "2025-03-27T23:07:17.220932",
     "exception": false,
     "start_time": "2025-03-27T23:07:13.995350",
     "status": "completed"
    },
    "tags": []
   },
   "outputs": [
    {
     "name": "stderr",
     "output_type": "stream",
     "text": [
      "\u001b[34m\u001b[1mwandb\u001b[0m: Using wandb-core as the SDK backend.  Please refer to https://wandb.me/wandb-core for more information.\n"
     ]
    },
    {
     "name": "stderr",
     "output_type": "stream",
     "text": [
      "\u001b[34m\u001b[1mwandb\u001b[0m: Currently logged in as: \u001b[33mpechetti-1\u001b[0m. Use \u001b[1m`wandb login --relogin`\u001b[0m to force relogin\n"
     ]
    },
    {
     "name": "stderr",
     "output_type": "stream",
     "text": [
      "\u001b[34m\u001b[1mwandb\u001b[0m: \u001b[33mWARNING\u001b[0m If you're specifying your api key in code, ensure this code is not shared publicly.\n",
      "\u001b[34m\u001b[1mwandb\u001b[0m: \u001b[33mWARNING\u001b[0m Consider setting the WANDB_API_KEY environment variable, or running `wandb login` from the command line.\n"
     ]
    },
    {
     "name": "stderr",
     "output_type": "stream",
     "text": [
      "\u001b[34m\u001b[1mwandb\u001b[0m: Appending key for api.wandb.ai to your netrc file: /root/.netrc\n"
     ]
    },
    {
     "data": {
      "text/plain": [
       "True"
      ]
     },
     "execution_count": 4,
     "metadata": {},
     "output_type": "execute_result"
    }
   ],
   "source": [
    "from kaggle_secrets import UserSecretsClient\n",
    "import wandb\n",
    "\n",
    "user_secrets = UserSecretsClient()\n",
    "\n",
    "my_secret = user_secrets.get_secret(\"wandb_api_key\") \n",
    "\n",
    "wandb.login(key=my_secret)"
   ]
  },
  {
   "cell_type": "code",
   "execution_count": 7,
   "id": "75d5dcdf",
   "metadata": {
    "execution": {
     "iopub.execute_input": "2025-03-27T23:07:17.255157Z",
     "iopub.status.busy": "2025-03-27T23:07:17.254921Z",
     "iopub.status.idle": "2025-03-27T23:07:17.261130Z",
     "shell.execute_reply": "2025-03-27T23:07:17.260350Z"
    },
    "papermill": {
     "duration": 0.011849,
     "end_time": "2025-03-27T23:07:17.262418",
     "exception": false,
     "start_time": "2025-03-27T23:07:17.250569",
     "status": "completed"
    },
    "tags": []
   },
   "outputs": [],
   "source": [
    "import torch\n",
    "import torch.nn as nn\n",
    "import torch.optim as optim\n",
    "from torchvision import transforms\n",
    "from torch.utils.data import DataLoader\n",
    "\n",
    "class MAEClassifier(nn.Module):\n",
    "    def __init__(self, pretrained_mae, num_classes=3):\n",
    "        super(MAEClassifier, self).__init__()\n",
    "\n",
    "        self.encoder = pretrained_mae.patch_embed  # Use the same patch embedding\n",
    "        self.pos_embed = pretrained_mae.pos_embed\n",
    "        self.transformer = pretrained_mae.encoder  # Use the pre-trained transformer\n",
    "\n",
    "        embed_dim = pretrained_mae.embed_dim\n",
    "        num_patches = pretrained_mae.num_patches\n",
    "\n",
    "        # Classification head\n",
    "        self.cls_head = nn.Sequential(\n",
    "            nn.Linear(embed_dim, 256),\n",
    "            nn.ReLU(),\n",
    "            nn.Linear(256,128),\n",
    "            nn.ReLU(),\n",
    "            nn.Linear(128, 64),\n",
    "            nn.ReLU(),\n",
    "            nn.Linear(64,10),\n",
    "            nn.ReLU(),\n",
    "            nn.Linear(10, num_classes)\n",
    "        )\n",
    "\n",
    "    def forward(self, x):\n",
    "        B, C, H, W = x.shape  # Bx1x64x64\n",
    "\n",
    "        # Convert image to patches\n",
    "        patches = self.encoder(x).flatten(2).transpose(1, 2)  # Convert to patch embeddings\n",
    "        patches = patches + self.pos_embed  # Add positional embeddings\n",
    "\n",
    "        # Transformer encoding\n",
    "        encoded = self.transformer(patches)  # B x num_patches x embed_dim\n",
    "\n",
    "        # Global average pooling over patches\n",
    "        encoded = encoded.mean(dim=1)  # B x embed_dim\n",
    "\n",
    "        # Classification head\n",
    "        logits = self.cls_head(encoded)  # B x num_classes\n",
    "        return logits\n"
   ]
  },
  {
   "cell_type": "code",
   "execution_count": 8,
   "id": "2b0c438c",
   "metadata": {
    "execution": {
     "iopub.execute_input": "2025-03-27T23:07:17.271490Z",
     "iopub.status.busy": "2025-03-27T23:07:17.271233Z",
     "iopub.status.idle": "2025-03-27T23:07:24.613007Z",
     "shell.execute_reply": "2025-03-27T23:07:24.612200Z"
    },
    "papermill": {
     "duration": 7.347684,
     "end_time": "2025-03-27T23:07:24.614400",
     "exception": false,
     "start_time": "2025-03-27T23:07:17.266716",
     "status": "completed"
    },
    "tags": []
   },
   "outputs": [
    {
     "data": {
      "image/png": "[encoded data removed]",
      "text/plain": [
       "<Figure size 640x480 with 1 Axes>"
      ]
     },
     "metadata": {},
     "output_type": "display_data"
    }
   ],
   "source": [
    "import os\n",
    "import numpy as np\n",
    "import torch\n",
    "import torchvision.transforms as transforms\n",
    "import cv2\n",
    "from torch.utils.data import Dataset\n",
    "import matplotlib.pyplot as plt\n",
    "\n",
    "class StrongLensingDataset(Dataset):\n",
    "    def __init__(self, root_dir, transform=None):\n",
    "        \"\"\"\n",
    "        Args:\n",
    "            root_dir (str): Path to the dataset directory.\n",
    "            transform (callable, optional): Transform to apply to images.\n",
    "        \"\"\"\n",
    "        self.root_dir = root_dir\n",
    "        self.transform = transform\n",
    "        self.classes = [\"axion\", \"no_sub\", \"cdm\"]\n",
    "        self.data = []\n",
    "\n",
    "        # Load file paths and labels\n",
    "        for class_idx, class_name in enumerate(self.classes):\n",
    "            class_dir = os.path.join(root_dir, class_name)\n",
    "            for file_name in os.listdir(class_dir):\n",
    "                file_path = os.path.join(class_dir, file_name)\n",
    "                self.data.append((file_path, class_idx))  # Store (file_path, label)\n",
    "\n",
    "    def __len__(self):\n",
    "        return len(self.data)\n",
    "\n",
    "    def __getitem__(self, idx):\n",
    "        file_path, label = self.data[idx]\n",
    "        image = np.load(file_path,allow_pickle=True)  # Load .npy file\n",
    "        if image.ndim!=2:\n",
    "            image=image[0]\n",
    "        image = torch.tensor(image, dtype=torch.float32).unsqueeze(0)  # Add channel dimension\n",
    "        \n",
    "        if self.transform:\n",
    "            image = self.transform(image)\n",
    "\n",
    "        return image, label\n",
    "\n",
    "# Initialize dataset\n",
    "dataset = StrongLensingDataset(root_dir='/kaggle/input/foundational-model-task-ml4sci/Task4/Dataset')\n",
    "\n",
    "# Load a sample from dataset\n",
    "sample_img, sample_label = dataset[0]\n",
    "plt.imshow(sample_img.squeeze(), cmap='gray')\n",
    "plt.axis(\"off\")\n",
    "plt.show()\n"
   ]
  },
  {
   "cell_type": "code",
   "execution_count": 9,
   "id": "dcf0b1fb",
   "metadata": {
    "execution": {
     "iopub.execute_input": "2025-03-27T23:07:24.623928Z",
     "iopub.status.busy": "2025-03-27T23:07:24.623665Z",
     "iopub.status.idle": "2025-03-27T23:07:26.266716Z",
     "shell.execute_reply": "2025-03-27T23:07:26.265829Z"
    },
    "papermill": {
     "duration": 1.649095,
     "end_time": "2025-03-27T23:07:26.268005",
     "exception": false,
     "start_time": "2025-03-27T23:07:24.618910",
     "status": "completed"
    },
    "tags": []
   },
   "outputs": [
    {
     "name": "stderr",
     "output_type": "stream",
     "text": [
      "\u001b[34m\u001b[1mwandb\u001b[0m: Tracking run with wandb version 0.19.1\n"
     ]
    },
    {
     "name": "stderr",
     "output_type": "stream",
     "text": [
      "\u001b[34m\u001b[1mwandb\u001b[0m: Run data is saved locally in \u001b[35m\u001b[1m/kaggle/working/wandb/run-20250327_230724-k9hx8yfv\u001b[0m\n",
      "\u001b[34m\u001b[1mwandb\u001b[0m: Run \u001b[1m`wandb offline`\u001b[0m to turn off syncing.\n"
     ]
    },
    {
     "name": "stderr",
     "output_type": "stream",
     "text": [
      "\u001b[34m\u001b[1mwandb\u001b[0m: Syncing run \u001b[33mclassification_finetune\u001b[0m\n"
     ]
    },
    {
     "name": "stderr",
     "output_type": "stream",
     "text": [
      "\u001b[34m\u001b[1mwandb\u001b[0m: ⭐️ View project at \u001b[34m\u001b[4mhttps://wandb.ai/pechetti-1/MAE-Finetuning\u001b[0m\n"
     ]
    },
    {
     "name": "stderr",
     "output_type": "stream",
     "text": [
      "\u001b[34m\u001b[1mwandb\u001b[0m: 🚀 View run at \u001b[34m\u001b[4mhttps://wandb.ai/pechetti-1/MAE-Finetuning/runs/k9hx8yfv\u001b[0m\n"
     ]
    },
    {
     "data": {
      "text/html": [
       "<button onClick=\"this.nextSibling.style.display='block';this.style.display='none';\">Display W&B run</button><iframe src='https://wandb.ai/pechetti-1/MAE-Finetuning/runs/k9hx8yfv?jupyter=true' style='border:none;width:100%;height:420px;display:none;'></iframe>"
      ],
      "text/plain": [
       "<wandb.sdk.wandb_run.Run at 0x7db5476fd1e0>"
      ]
     },
     "execution_count": 9,
     "metadata": {},
     "output_type": "execute_result"
    }
   ],
   "source": [
    "import wandb\n",
    "\n",
    "# Initialize wandb\n",
    "wandb.init(project=\"MAE-Finetuning\", name=\"classification_finetune\")"
   ]
  },
  {
   "cell_type": "code",
   "execution_count": 10,
   "id": "c0ecde7a",
   "metadata": {
    "execution": {
     "iopub.execute_input": "2025-03-27T23:07:26.277887Z",
     "iopub.status.busy": "2025-03-27T23:07:26.277657Z",
     "iopub.status.idle": "2025-03-27T23:07:26.427487Z",
     "shell.execute_reply": "2025-03-27T23:07:26.426685Z"
    },
    "papermill": {
     "duration": 0.156321,
     "end_time": "2025-03-27T23:07:26.429039",
     "exception": false,
     "start_time": "2025-03-27T23:07:26.272718",
     "status": "completed"
    },
    "tags": []
   },
   "outputs": [],
   "source": [
    "from torch.utils.data import random_split, DataLoader\n",
    "\n",
    "\n",
    "# Define transformation\n",
    "transform = transforms.Compose([\n",
    "    transforms.Normalize(mean=[0.5], std=[0.5])\n",
    "])\n",
    "\n",
    "# Load dataset\n",
    "dataset = StrongLensingDataset(\"/kaggle/input/foundational-model-task-ml4sci/Task4/Dataset\", transform=transform)\n",
    "\n",
    "\n",
    "# Train/Validation Split (90:10)\n",
    "train_size = int(0.9 * len(dataset))\n",
    "val_size = len(dataset) - train_size\n",
    "train_dataset, val_dataset = random_split(dataset, [train_size, val_size])\n",
    "\n",
    "# DataLoaders\n",
    "batch_size = 64\n",
    "train_loader = DataLoader(train_dataset, batch_size=batch_size, shuffle=True)\n",
    "val_loader = DataLoader(val_dataset, batch_size=batch_size, shuffle=False)\n"
   ]
  },
  {
   "cell_type": "code",
   "execution_count": 11,
   "id": "723c8c32",
   "metadata": {
    "execution": {
     "iopub.execute_input": "2025-03-27T23:07:26.440392Z",
     "iopub.status.busy": "2025-03-27T23:07:26.440074Z",
     "iopub.status.idle": "2025-03-27T23:07:27.479013Z",
     "shell.execute_reply": "2025-03-27T23:07:27.478182Z"
    },
    "papermill": {
     "duration": 1.045618,
     "end_time": "2025-03-27T23:07:27.480423",
     "exception": false,
     "start_time": "2025-03-27T23:07:26.434805",
     "status": "completed"
    },
    "tags": []
   },
   "outputs": [
    {
     "name": "stderr",
     "output_type": "stream",
     "text": [
      "/usr/local/lib/python3.10/dist-packages/torch/nn/modules/transformer.py:379: UserWarning: enable_nested_tensor is True, but self.use_nested_tensor is False because encoder_layer.self_attn.batch_first was not True(use batch_first for better inference performance)\n",
      "  warnings.warn(\n",
      "<ipython-input-11-bc38018e003e>:3: FutureWarning: You are using `torch.load` with `weights_only=False` (the current default value), which uses the default pickle module implicitly. It is possible to construct malicious pickle data which will execute arbitrary code during unpickling (See https://github.com/pytorch/pytorch/blob/main/SECURITY.md#untrusted-models for more details). In a future release, the default value for `weights_only` will be flipped to `True`. This limits the functions that could be executed during unpickling. Arbitrary objects will no longer be allowed to be loaded via this mode unless they are explicitly allowlisted by the user via `torch.serialization.add_safe_globals`. We recommend you start setting `weights_only=True` for any use case where you don't have full control of the loaded file. Please open an issue on GitHub for any issues related to this experimental feature.\n",
      "  pretrained_mae.load_state_dict(torch.load(\"/kaggle/input/pretrained-mae/pytorch/default/1/pretrainedmae_epoch10.pth\"))\n"
     ]
    },
    {
     "data": {
      "text/plain": [
       "<All keys matched successfully>"
      ]
     },
     "execution_count": 11,
     "metadata": {},
     "output_type": "execute_result"
    }
   ],
   "source": [
    "# Load Pretrained MAE\n",
    "pretrained_mae = CustomMAE()  # Load pre-trained weights if available\n",
    "pretrained_mae.load_state_dict(torch.load(\"/kaggle/input/pretrained-mae/pytorch/default/1/pretrainedmae_epoch10.pth\"))"
   ]
  },
  {
   "cell_type": "code",
   "execution_count": 12,
   "id": "405db740",
   "metadata": {
    "execution": {
     "iopub.execute_input": "2025-03-27T23:07:27.490992Z",
     "iopub.status.busy": "2025-03-27T23:07:27.490713Z"
    },
    "papermill": {
     "duration": null,
     "end_time": null,
     "exception": false,
     "start_time": "2025-03-27T23:07:27.485403",
     "status": "running"
    },
    "tags": []
   },
   "outputs": [
    {
     "name": "stdout",
     "output_type": "stream",
     "text": [
      "Epoch [1/50] | Train Loss: 1.0987 | Train Acc: 0.3334 | Val Loss: 1.0991 | Val Acc: 0.3269\n"
     ]
    },
    {
     "name": "stdout",
     "output_type": "stream",
     "text": [
      "Epoch [2/50] | Train Loss: 1.0983 | Train Acc: 0.3404 | Val Loss: 1.0996 | Val Acc: 0.3350\n"
     ]
    },
    {
     "name": "stdout",
     "output_type": "stream",
     "text": [
      "Epoch [3/50] | Train Loss: 1.0966 | Train Acc: 0.3570 | Val Loss: 1.0954 | Val Acc: 0.3542\n"
     ]
    },
    {
     "name": "stdout",
     "output_type": "stream",
     "text": [
      "Epoch [4/50] | Train Loss: 1.0945 | Train Acc: 0.3639 | Val Loss: 1.0953 | Val Acc: 0.3605\n"
     ]
    },
    {
     "name": "stdout",
     "output_type": "stream",
     "text": [
      "Epoch [5/50] | Train Loss: 1.0930 | Train Acc: 0.3693 | Val Loss: 1.0927 | Val Acc: 0.3741\n"
     ]
    },
    {
     "name": "stdout",
     "output_type": "stream",
     "text": [
      "Epoch [6/50] | Train Loss: 1.0914 | Train Acc: 0.3749 | Val Loss: 1.0910 | Val Acc: 0.3781\n"
     ]
    },
    {
     "name": "stdout",
     "output_type": "stream",
     "text": [
      "Epoch [7/50] | Train Loss: 1.0889 | Train Acc: 0.3767 | Val Loss: 1.0882 | Val Acc: 0.3805\n"
     ]
    },
    {
     "name": "stdout",
     "output_type": "stream",
     "text": [
      "Epoch [8/50] | Train Loss: 1.0844 | Train Acc: 0.3841 | Val Loss: 1.0822 | Val Acc: 0.3883\n"
     ]
    },
    {
     "name": "stdout",
     "output_type": "stream",
     "text": [
      "Epoch [9/50] | Train Loss: 1.0803 | Train Acc: 0.3917 | Val Loss: 1.0852 | Val Acc: 0.3850\n"
     ]
    },
    {
     "name": "stdout",
     "output_type": "stream",
     "text": [
      "Epoch [10/50] | Train Loss: 1.0751 | Train Acc: 0.3978 | Val Loss: 1.0710 | Val Acc: 0.4062\n",
      "Encoder Unfrozen!\n"
     ]
    },
    {
     "name": "stdout",
     "output_type": "stream",
     "text": [
      "Epoch [11/50] | Train Loss: 1.0697 | Train Acc: 0.4058 | Val Loss: 0.9338 | Val Acc: 0.5729\n"
     ]
    },
    {
     "name": "stdout",
     "output_type": "stream",
     "text": [
      "Epoch [12/50] | Train Loss: 0.7831 | Train Acc: 0.6375 | Val Loss: 0.5773 | Val Acc: 0.7568\n"
     ]
    },
    {
     "name": "stdout",
     "output_type": "stream",
     "text": [
      "Epoch [13/50] | Train Loss: 0.5795 | Train Acc: 0.7543 | Val Loss: 0.6419 | Val Acc: 0.7263\n"
     ]
    },
    {
     "name": "stdout",
     "output_type": "stream",
     "text": [
      "Epoch [14/50] | Train Loss: 0.5427 | Train Acc: 0.7700 | Val Loss: 0.4524 | Val Acc: 0.8253\n"
     ]
    },
    {
     "name": "stdout",
     "output_type": "stream",
     "text": [
      "Epoch [15/50] | Train Loss: 0.5001 | Train Acc: 0.7934 | Val Loss: 0.4053 | Val Acc: 0.8433\n"
     ]
    },
    {
     "name": "stdout",
     "output_type": "stream",
     "text": [
      "Epoch [16/50] | Train Loss: 0.4767 | Train Acc: 0.8036 | Val Loss: 0.4060 | Val Acc: 0.8401\n"
     ]
    },
    {
     "name": "stdout",
     "output_type": "stream",
     "text": [
      "Epoch [17/50] | Train Loss: 0.5020 | Train Acc: 0.7951 | Val Loss: 0.4689 | Val Acc: 0.8110\n"
     ]
    },
    {
     "name": "stdout",
     "output_type": "stream",
     "text": [
      "Epoch [18/50] | Train Loss: 0.4534 | Train Acc: 0.8134 | Val Loss: 0.4250 | Val Acc: 0.8300\n"
     ]
    },
    {
     "name": "stdout",
     "output_type": "stream",
     "text": [
      "Epoch [19/50] | Train Loss: 0.4478 | Train Acc: 0.8160 | Val Loss: 0.4362 | Val Acc: 0.8241\n"
     ]
    },
    {
     "name": "stdout",
     "output_type": "stream",
     "text": [
      "Epoch [20/50] | Train Loss: 0.4388 | Train Acc: 0.8249 | Val Loss: 0.5519 | Val Acc: 0.7359\n"
     ]
    },
    {
     "name": "stdout",
     "output_type": "stream",
     "text": [
      "Epoch [21/50] | Train Loss: 0.4470 | Train Acc: 0.8287 | Val Loss: 0.4413 | Val Acc: 0.8234\n"
     ]
    },
    {
     "name": "stdout",
     "output_type": "stream",
     "text": [
      "Epoch [22/50] | Train Loss: 0.4232 | Train Acc: 0.8290 | Val Loss: 0.4209 | Val Acc: 0.8286\n"
     ]
    },
    {
     "name": "stdout",
     "output_type": "stream",
     "text": [
      "Epoch [23/50] | Train Loss: 0.4331 | Train Acc: 0.8307 | Val Loss: 0.4754 | Val Acc: 0.8081\n"
     ]
    },
    {
     "name": "stdout",
     "output_type": "stream",
     "text": [
      "Epoch [24/50] | Train Loss: 0.4397 | Train Acc: 0.8226 | Val Loss: 0.4147 | Val Acc: 0.8414\n"
     ]
    },
    {
     "name": "stdout",
     "output_type": "stream",
     "text": [
      "Epoch [25/50] | Train Loss: 1.0065 | Train Acc: 0.4214 | Val Loss: 1.0987 | Val Acc: 0.3269\n"
     ]
    },
    {
     "name": "stdout",
     "output_type": "stream",
     "text": [
      "Epoch [26/50] | Train Loss: 1.0987 | Train Acc: 0.3310 | Val Loss: 1.0986 | Val Acc: 0.3392\n"
     ]
    },
    {
     "name": "stdout",
     "output_type": "stream",
     "text": [
      "Epoch [27/50] | Train Loss: 1.0987 | Train Acc: 0.3358 | Val Loss: 1.0987 | Val Acc: 0.3392\n"
     ]
    },
    {
     "name": "stdout",
     "output_type": "stream",
     "text": [
      "Epoch [28/50] | Train Loss: 1.0483 | Train Acc: 0.4037 | Val Loss: 0.9339 | Val Acc: 0.5133\n"
     ]
    },
    {
     "name": "stdout",
     "output_type": "stream",
     "text": [
      "Epoch [29/50] | Train Loss: 0.6131 | Train Acc: 0.7417 | Val Loss: 0.5185 | Val Acc: 0.7935\n"
     ]
    },
    {
     "name": "stdout",
     "output_type": "stream",
     "text": [
      "Epoch [30/50] | Train Loss: 0.5151 | Train Acc: 0.7912 | Val Loss: 0.4851 | Val Acc: 0.7898\n"
     ]
    },
    {
     "name": "stdout",
     "output_type": "stream",
     "text": [
      "Epoch [31/50] | Train Loss: 0.4620 | Train Acc: 0.8135 | Val Loss: 0.5297 | Val Acc: 0.7908\n"
     ]
    },
    {
     "name": "stdout",
     "output_type": "stream",
     "text": [
      "Epoch [32/50] | Train Loss: 0.5174 | Train Acc: 0.7879 | Val Loss: 0.4448 | Val Acc: 0.8174\n"
     ]
    },
    {
     "name": "stdout",
     "output_type": "stream",
     "text": [
      "Epoch [33/50] | Train Loss: 0.4500 | Train Acc: 0.8189 | Val Loss: 0.4215 | Val Acc: 0.8323\n"
     ]
    },
    {
     "name": "stdout",
     "output_type": "stream",
     "text": [
      "Epoch [34/50] | Train Loss: 0.4357 | Train Acc: 0.8252 | Val Loss: 0.4093 | Val Acc: 0.8367\n"
     ]
    },
    {
     "name": "stdout",
     "output_type": "stream",
     "text": [
      "Epoch [35/50] | Train Loss: 0.4266 | Train Acc: 0.8272 | Val Loss: 0.3639 | Val Acc: 0.8537\n"
     ]
    },
    {
     "name": "stdout",
     "output_type": "stream",
     "text": [
      "Epoch [36/50] | Train Loss: 0.4209 | Train Acc: 0.8331 | Val Loss: 0.4805 | Val Acc: 0.8112\n"
     ]
    },
    {
     "name": "stdout",
     "output_type": "stream",
     "text": [
      "Epoch [37/50] | Train Loss: 0.4339 | Train Acc: 0.8262 | Val Loss: 0.3880 | Val Acc: 0.8478\n"
     ]
    },
    {
     "name": "stdout",
     "output_type": "stream",
     "text": [
      "Epoch [38/50] | Train Loss: 0.4091 | Train Acc: 0.8355 | Val Loss: 0.3512 | Val Acc: 0.8593\n"
     ]
    },
    {
     "name": "stdout",
     "output_type": "stream",
     "text": [
      "Epoch [39/50] | Train Loss: 0.4064 | Train Acc: 0.8357 | Val Loss: 0.3924 | Val Acc: 0.8477\n"
     ]
    },
    {
     "name": "stdout",
     "output_type": "stream",
     "text": [
      "Epoch [40/50] | Train Loss: 0.3950 | Train Acc: 0.8387 | Val Loss: 0.3609 | Val Acc: 0.8565\n"
     ]
    },
    {
     "name": "stdout",
     "output_type": "stream",
     "text": [
      "Epoch [41/50] | Train Loss: 0.3979 | Train Acc: 0.8387 | Val Loss: 0.3604 | Val Acc: 0.8525\n"
     ]
    },
    {
     "name": "stdout",
     "output_type": "stream",
     "text": [
      "Epoch [42/50] | Train Loss: 0.3964 | Train Acc: 0.8405 | Val Loss: 0.4454 | Val Acc: 0.8170\n"
     ]
    },
    {
     "name": "stdout",
     "output_type": "stream",
     "text": [
      "Epoch [43/50] | Train Loss: 0.4231 | Train Acc: 0.8280 | Val Loss: 0.3625 | Val Acc: 0.8528\n"
     ]
    },
    {
     "name": "stdout",
     "output_type": "stream",
     "text": [
      "Epoch [44/50] | Train Loss: 0.3794 | Train Acc: 0.8486 | Val Loss: 0.3866 | Val Acc: 0.8436\n"
     ]
    },
    {
     "name": "stdout",
     "output_type": "stream",
     "text": [
      "Epoch [45/50] | Train Loss: 0.3863 | Train Acc: 0.8442 | Val Loss: 0.4230 | Val Acc: 0.8298\n"
     ]
    },
    {
     "name": "stdout",
     "output_type": "stream",
     "text": [
      "Epoch [46/50] | Train Loss: 0.3799 | Train Acc: 0.8472 | Val Loss: 0.5938 | Val Acc: 0.7742\n"
     ]
    }
   ],
   "source": [
    "device = torch.device(\"cuda\" if torch.cuda.is_available() else \"cpu\")\n",
    "pretrained_mae.to(device)\n",
    "\n",
    "\n",
    "# Initialize classifier model\n",
    "model = MAEClassifier(pretrained_mae).to(device)\n",
    "\n",
    "for param in model.encoder.parameters():\n",
    "    param.requires_grad = False\n",
    "for param in model.transformer.parameters():\n",
    "    param.requires_grad = False\n",
    "\n",
    "# Define loss and optimizer\n",
    "criterion = nn.CrossEntropyLoss()\n",
    "optimizer = optim.AdamW(model.parameters(), lr=1e-4, weight_decay=1e-4)\n",
    "\n",
    "# Training loop with validation\n",
    "epochs = 50\n",
    "for epoch in range(epochs):\n",
    "\n",
    "    if epoch == 10:  # Unfreeze encoder after 5 epochs\n",
    "        for param in model.encoder.parameters():\n",
    "            param.requires_grad = True\n",
    "        for param in model.transformer.parameters():\n",
    "            param.requires_grad = True\n",
    "        print(\"Encoder Unfrozen!\")\n",
    "        \n",
    "    model.train()\n",
    "    total_train_loss, total_train_correct = 0.0, 0\n",
    "    total_val_loss, total_val_correct = 0.0, 0\n",
    "\n",
    "    # Training Phase\n",
    "    for images, labels in train_loader:\n",
    "        images, labels = images.to(device), labels.to(device)\n",
    "\n",
    "        optimizer.zero_grad()\n",
    "        logits = model(images)\n",
    "        loss = criterion(logits, labels)\n",
    "        loss.backward()\n",
    "        optimizer.step()\n",
    "\n",
    "        total_train_loss += loss.item()\n",
    "        total_train_correct += (logits.argmax(dim=1) == labels).sum().item()\n",
    "\n",
    "    # Validation Phase\n",
    "    model.eval()\n",
    "    with torch.no_grad():\n",
    "        for images, labels in val_loader:\n",
    "            images, labels = images.to(device), labels.to(device)\n",
    "\n",
    "            logits = model(images)\n",
    "            loss = criterion(logits, labels)\n",
    "\n",
    "            total_val_loss += loss.item()\n",
    "            total_val_correct += (logits.argmax(dim=1) == labels).sum().item()\n",
    "\n",
    "    # Compute Metrics\n",
    "    train_loss = total_train_loss / len(train_loader)\n",
    "    train_acc = total_train_correct / len(train_dataset)\n",
    "    val_loss = total_val_loss / len(val_loader)\n",
    "    val_acc = total_val_correct / len(val_dataset)\n",
    "\n",
    "    # Log to wandb\n",
    "    wandb.log({\n",
    "        \"Train Loss\": train_loss,\n",
    "        \"Train Accuracy\": train_acc,\n",
    "        \"Validation Loss\": val_loss,\n",
    "        \"Validation Accuracy\": val_acc\n",
    "    })\n",
    "\n",
    "    print(f\"Epoch [{epoch+1}/{epochs}] | Train Loss: {train_loss:.4f} | Train Acc: {train_acc:.4f} | \"\n",
    "          f\"Val Loss: {val_loss:.4f} | Val Acc: {val_acc:.4f}\")\n",
    "\n",
    "    if (epoch + 1) % 2 == 0:\n",
    "        torch.save(model.state_dict(), f\"classifer_epoch{epoch+1}.pth\")\n",
    "\n",
    "print(\"Fine-tuning complete!\")\n",
    "wandb.finish()\n"
   ]
  },
  {
   "cell_type": "code",
   "execution_count": null,
   "id": "7b22805c",
   "metadata": {
    "papermill": {
     "duration": null,
     "end_time": null,
     "exception": null,
     "start_time": null,
     "status": "pending"
    },
    "tags": []
   },
   "outputs": [],
   "source": []
  }
 ],
 "metadata": {
  "kaggle": {
   "accelerator": "gpu",
   "dataSources": [
    {
     "datasetId": 6968632,
     "sourceId": 11166963,
     "sourceType": "datasetVersion"
    },
    {
     "isSourceIdPinned": true,
     "modelId": 281371,
     "modelInstanceId": 260212,
     "sourceId": 304941,
     "sourceType": "modelInstanceVersion"
    }
   ],
   "dockerImageVersionId": 30919,
   "isGpuEnabled": true,
   "isInternetEnabled": true,
   "language": "python",
   "sourceType": "notebook"
  },
  "kernelspec": {
   "display_name": "Python 3",
   "language": "python",
   "name": "python3"
  },
  "language_info": {
   "codemirror_mode": {
    "name": "ipython",
    "version": 3
   },
   "file_extension": ".py",
   "mimetype": "text/x-python",
   "name": "python",
   "nbconvert_exporter": "python",
   "pygments_lexer": "ipython3",
   "version": "3.10.12"
  },
  "papermill": {
   "default_parameters": {},
   "duration": null,
   "end_time": null,
   "environment_variables": {},
   "exception": null,
   "input_path": "__notebook__.ipynb",
   "output_path": "__notebook__.ipynb",
   "parameters": {},
   "start_time": "2025-03-27T23:07:03.837418",
   "version": "2.6.0"
  }
 },
 "nbformat": 4,
 "nbformat_minor": 5
}
