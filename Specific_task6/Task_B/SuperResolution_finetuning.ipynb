{
 "cells": [
  {
   "cell_type": "code",
   "execution_count": 3,
   "id": "35b7dfa9",
   "metadata": {
    "execution": {
     "iopub.execute_input": "2025-03-27T23:08:57.519207Z",
     "iopub.status.busy": "2025-03-27T23:08:57.519009Z",
     "iopub.status.idle": "2025-03-27T23:09:04.686407Z",
     "shell.execute_reply": "2025-03-27T23:09:04.685709Z"
    },
    "papermill": {
     "duration": 7.173107,
     "end_time": "2025-03-27T23:09:04.687960",
     "exception": false,
     "start_time": "2025-03-27T23:08:57.514853",
     "status": "completed"
    },
    "tags": []
   },
   "outputs": [],
   "source": [
    "import torch\n",
    "import torch.nn as nn\n",
    "import torch.nn.functional as F\n",
    "import torchvision.transforms as transforms\n",
    "\n",
    "class CustomMAE(nn.Module):\n",
    "    def __init__(self, img_size=64, patch_size=8, embed_dim=512, num_heads=8, depth=6):\n",
    "        super(CustomMAE, self).__init__()\n",
    "\n",
    "        self.img_size = img_size\n",
    "        self.patch_size = patch_size\n",
    "        self.num_patches = (img_size // patch_size) ** 2\n",
    "        self.embed_dim = embed_dim\n",
    "\n",
    "        # Patch embedding (Linear Projection + Positional Encoding)\n",
    "        self.patch_embed = nn.Conv2d(1, embed_dim, kernel_size=patch_size, stride=patch_size)\n",
    "        self.pos_embed = nn.Parameter(torch.randn(1, self.num_patches, embed_dim))\n",
    "\n",
    "        # Transformer Encoder (Inspired by ViT)\n",
    "        self.encoder = nn.TransformerEncoder(\n",
    "            nn.TransformerEncoderLayer(d_model=embed_dim, nhead=num_heads, dim_feedforward=1024, dropout=0.1),\n",
    "            num_layers=depth\n",
    "        )\n",
    "\n",
    "        # Fully connected layer to reshape encoded features for decoding\n",
    "        # self.fc = nn.Linear(embed_dim, embed_dim * (patch_size // 2) * (patch_size // 2))\n",
    "\n",
    "        # Decoder with Up-Convolutions\n",
    "        self.decoder = nn.Sequential(\n",
    "            nn.ConvTranspose2d(embed_dim, 256, kernel_size=4, stride=2, padding=1),  # 8x8 → 16x16\n",
    "            nn.ReLU(),\n",
    "            nn.ConvTranspose2d(256, 128, kernel_size=4, stride=2, padding=1),  # 16x16 → 32x32\n",
    "            nn.ReLU(),\n",
    "            nn.ConvTranspose2d(128, 64, kernel_size=4, stride=2, padding=1),  # 32x32 → 64x64\n",
    "            nn.ReLU(),\n",
    "            nn.Conv2d(64, 1, kernel_size=3, stride=1, padding=1)  # Output: 64x64\n",
    "        )\n",
    "\n",
    "    def forward(self, x):\n",
    "        B, C, H, W = x.shape  # Bx1x64x64\n",
    "        patches = self.patch_embed(x).flatten(2).transpose(1, 2)  # Convert to patches\n",
    "        patches = patches + self.pos_embed  # Add positional embeddings\n",
    "        \n",
    "        # masked_patches = patches * mask.unsqueeze(-1)  # Apply mask\n",
    "\n",
    "        encoded = self.encoder(patches)  # Transformer encoding\n",
    "        # print(encoded.shape)\n",
    "\n",
    "        # Reshape for decoder\n",
    "        # encoded = self.fc(encoded)  # Fully connected to reshape embedding\n",
    "        encoded = encoded.view(B, self.embed_dim, H // self.patch_size, W // self.patch_size)\n",
    "\n",
    "        # Decode using up-convolutions\n",
    "        reconstructed_img = self.decoder(encoded)\n",
    "\n",
    "        return reconstructed_img\n"
   ]
  },
  {
   "cell_type": "code",
   "execution_count": 4,
   "id": "5c3ea4cc",
   "metadata": {
    "execution": {
     "iopub.execute_input": "2025-03-27T23:09:04.696804Z",
     "iopub.status.busy": "2025-03-27T23:09:04.696505Z",
     "iopub.status.idle": "2025-03-27T23:09:07.670186Z",
     "shell.execute_reply": "2025-03-27T23:09:07.669507Z"
    },
    "papermill": {
     "duration": 2.979282,
     "end_time": "2025-03-27T23:09:07.671384",
     "exception": false,
     "start_time": "2025-03-27T23:09:04.692102",
     "status": "completed"
    },
    "tags": []
   },
   "outputs": [
    {
     "name": "stderr",
     "output_type": "stream",
     "text": [
      "\u001b[34m\u001b[1mwandb\u001b[0m: Using wandb-core as the SDK backend.  Please refer to https://wandb.me/wandb-core for more information.\n",
      "\u001b[34m\u001b[1mwandb\u001b[0m: Currently logged in as: \u001b[33mpechetti-1\u001b[0m. Use \u001b[1m`wandb login --relogin`\u001b[0m to force relogin\n",
      "\u001b[34m\u001b[1mwandb\u001b[0m: \u001b[33mWARNING\u001b[0m If you're specifying your api key in code, ensure this code is not shared publicly.\n",
      "\u001b[34m\u001b[1mwandb\u001b[0m: \u001b[33mWARNING\u001b[0m Consider setting the WANDB_API_KEY environment variable, or running `wandb login` from the command line.\n",
      "\u001b[34m\u001b[1mwandb\u001b[0m: Appending key for api.wandb.ai to your netrc file: /root/.netrc\n"
     ]
    },
    {
     "data": {
      "text/plain": [
       "True"
      ]
     },
     "execution_count": 4,
     "metadata": {},
     "output_type": "execute_result"
    }
   ],
   "source": [
    "from kaggle_secrets import UserSecretsClient\n",
    "import wandb\n",
    "\n",
    "user_secrets = UserSecretsClient()\n",
    "\n",
    "my_secret = user_secrets.get_secret(\"wandb_api_key\") \n",
    "\n",
    "wandb.login(key=my_secret)"
   ]
  },
  {
   "cell_type": "code",
   "execution_count": null,
   "id": "d13509b6",
   "metadata": {
    "execution": {
     "iopub.execute_input": "2025-03-27T23:09:07.693263Z",
     "iopub.status.busy": "2025-03-27T23:09:07.693044Z",
     "iopub.status.idle": "2025-03-27T23:09:07.696648Z",
     "shell.execute_reply": "2025-03-27T23:09:07.695918Z"
    },
    "papermill": {
     "duration": 0.009428,
     "end_time": "2025-03-27T23:09:07.697931",
     "exception": false,
     "start_time": "2025-03-27T23:09:07.688503",
     "status": "completed"
    },
    "tags": []
   },
   "outputs": [],
   "source": [
    "import wandb\n",
    "import torch.optim as optim\n",
    "from torch.utils.data import DataLoader"
   ]
  },
  {
   "cell_type": "code",
   "execution_count": null,
   "id": "22345396",
   "metadata": {
    "execution": {
     "iopub.execute_input": "2025-03-27T23:09:07.706435Z",
     "iopub.status.busy": "2025-03-27T23:09:07.706233Z",
     "iopub.status.idle": "2025-03-27T23:09:07.709822Z",
     "shell.execute_reply": "2025-03-27T23:09:07.709101Z"
    },
    "papermill": {
     "duration": 0.00912,
     "end_time": "2025-03-27T23:09:07.710980",
     "exception": false,
     "start_time": "2025-03-27T23:09:07.701860",
     "status": "completed"
    },
    "tags": []
   },
   "outputs": [],
   "source": [
    "import torch\n",
    "import torch.nn as nn\n",
    "import torch.optim as optim\n",
    "from torchvision import transforms\n",
    "from torch.utils.data import DataLoader\n",
    "\n"
   ]
  },
  {
   "cell_type": "code",
   "execution_count": null,
   "id": "3e2e815b",
   "metadata": {
    "execution": {
     "iopub.execute_input": "2025-03-27T23:09:08.052956Z",
     "iopub.status.busy": "2025-03-27T23:09:08.052726Z",
     "iopub.status.idle": "2025-03-27T23:09:08.055500Z",
     "shell.execute_reply": "2025-03-27T23:09:08.054923Z"
    },
    "papermill": {
     "duration": 0.008372,
     "end_time": "2025-03-27T23:09:08.056638",
     "exception": false,
     "start_time": "2025-03-27T23:09:08.048266",
     "status": "completed"
    },
    "tags": []
   },
   "outputs": [],
   "source": [
    "import wandb"
   ]
  },
  {
   "cell_type": "code",
   "execution_count": 13,
   "id": "d726456d",
   "metadata": {
    "execution": {
     "iopub.execute_input": "2025-03-27T23:09:08.102787Z",
     "iopub.status.busy": "2025-03-27T23:09:08.102563Z",
     "iopub.status.idle": "2025-03-27T23:09:09.621927Z",
     "shell.execute_reply": "2025-03-27T23:09:09.621130Z"
    },
    "papermill": {
     "duration": 1.525021,
     "end_time": "2025-03-27T23:09:09.623275",
     "exception": false,
     "start_time": "2025-03-27T23:09:08.098254",
     "status": "completed"
    },
    "tags": []
   },
   "outputs": [
    {
     "name": "stderr",
     "output_type": "stream",
     "text": [
      "\u001b[34m\u001b[1mwandb\u001b[0m: Tracking run with wandb version 0.19.1\n",
      "\u001b[34m\u001b[1mwandb\u001b[0m: Run data is saved locally in \u001b[35m\u001b[1m/kaggle/working/wandb/run-20250327_230908-jxbm1zct\u001b[0m\n",
      "\u001b[34m\u001b[1mwandb\u001b[0m: Run \u001b[1m`wandb offline`\u001b[0m to turn off syncing.\n",
      "\u001b[34m\u001b[1mwandb\u001b[0m: Syncing run \u001b[33mfirm-vortex-3\u001b[0m\n",
      "\u001b[34m\u001b[1mwandb\u001b[0m: ⭐️ View project at \u001b[34m\u001b[4mhttps://wandb.ai/pechetti-1/super-resolution-task\u001b[0m\n",
      "\u001b[34m\u001b[1mwandb\u001b[0m: 🚀 View run at \u001b[34m\u001b[4mhttps://wandb.ai/pechetti-1/super-resolution-task/runs/jxbm1zct\u001b[0m\n"
     ]
    },
    {
     "data": {
      "text/html": [
       "<button onClick=\"this.nextSibling.style.display='block';this.style.display='none';\">Display W&B run</button><iframe src='https://wandb.ai/pechetti-1/super-resolution-task/runs/jxbm1zct?jupyter=true' style='border:none;width:100%;height:420px;display:none;'></iframe>"
      ],
      "text/plain": [
       "<wandb.sdk.wandb_run.Run at 0x7e64a3fade40>"
      ]
     },
     "execution_count": 13,
     "metadata": {},
     "output_type": "execute_result"
    }
   ],
   "source": [
    "# Initialize WandB\n",
    "wandb.init(project=\"super-resolution-task\")"
   ]
  },
  {
   "cell_type": "code",
   "execution_count": 14,
   "id": "d821da86",
   "metadata": {
    "execution": {
     "iopub.execute_input": "2025-03-27T23:09:09.633128Z",
     "iopub.status.busy": "2025-03-27T23:09:09.632899Z",
     "iopub.status.idle": "2025-03-27T23:09:09.639528Z",
     "shell.execute_reply": "2025-03-27T23:09:09.638927Z"
    },
    "papermill": {
     "duration": 0.012988,
     "end_time": "2025-03-27T23:09:09.640895",
     "exception": false,
     "start_time": "2025-03-27T23:09:09.627907",
     "status": "completed"
    },
    "tags": []
   },
   "outputs": [],
   "source": [
    "# Custom Dataset\n",
    "import torchvision.transforms as transforms\n",
    "import cv2\n",
    "from torch.utils.data import Dataset\n",
    "class SuperResDataset(Dataset):\n",
    "    def __init__(self, lr_dir, hr_dir, transform=None):\n",
    "        self.lr_file_list = [os.path.join(lr_dir, f) for f in os.listdir(lr_dir) if f.endswith('.npy')]\n",
    "        self.hr_file_list = [os.path.join(\"/\".join(f.split('/')[:-2]),\"HR\",f.split('/')[-1]) for f in self.lr_file_list]\n",
    "\n",
    "        # print(self.lr_file_list[0],self.hr_file_list[0])\n",
    "        self.lr_transform = transforms.Compose([\n",
    "            # transforms.ToTensor(),  # Convert to Tensor (C, H, W)\n",
    "            transforms.Resize((64, 64), interpolation=transforms.InterpolationMode.BICUBIC),  # Resize LR images\n",
    "        ])\n",
    "\n",
    "        self.hr_transform = transforms.Compose([\n",
    "            # transforms.ToTensor(),  # Convert HR images to Tensor (C, H, W)\n",
    "        ])\n",
    "\n",
    "    def __len__(self):\n",
    "        return len(self.lr_file_list)\n",
    "\n",
    "    def __getitem__(self, idx):\n",
    "        lr = np.load(self.lr_file_list[idx]).astype(np.float32)  # (75,75)\n",
    "        hr = np.load(self.hr_file_list[idx]).astype(np.float32)  # (150,150)\n",
    "\n",
    "        # Ensure shape (1, H, W) for grayscale images\n",
    "        if len(lr.shape) == 2:\n",
    "            lr = np.expand_dims(lr, axis=0)  # (1, 75, 75)\n",
    "        if len(hr.shape) == 2:\n",
    "            hr = np.expand_dims(hr, axis=0)  # (1, 150, 150)''\n",
    "\n",
    "        # Apply transforms\n",
    "        lr = self.lr_transform(torch.from_numpy(lr))\n",
    "        hr = self.hr_transform(torch.from_numpy(hr))\n",
    "\n",
    "        # Normalize images to [-1,1]\n",
    "        lr = (lr - lr.min()) / (lr.max() - lr.min())  # Normalize\n",
    "        hr = (hr - hr.min()) / (hr.max() - hr.min())  # Normalize\n",
    "\n",
    "       \n",
    "\n",
    "        return lr, hr"
   ]
  },
  {
   "cell_type": "code",
   "execution_count": 15,
   "id": "ca320f67",
   "metadata": {
    "execution": {
     "iopub.execute_input": "2025-03-27T23:09:09.650898Z",
     "iopub.status.busy": "2025-03-27T23:09:09.650668Z",
     "iopub.status.idle": "2025-03-27T23:09:09.856420Z",
     "shell.execute_reply": "2025-03-27T23:09:09.855474Z"
    },
    "papermill": {
     "duration": 0.212571,
     "end_time": "2025-03-27T23:09:09.858073",
     "exception": false,
     "start_time": "2025-03-27T23:09:09.645502",
     "status": "completed"
    },
    "tags": []
   },
   "outputs": [],
   "source": [
    "from torch.utils.data import random_split, DataLoader\n",
    "\n",
    "\n",
    "# Define transformation\n",
    "transform = transforms.Compose([\n",
    "    transforms.Normalize(mean=[0.5], std=[0.5])\n",
    "])\n",
    "\n",
    "# Load dataset\n",
    "dataset = SuperResDataset(\"/kaggle/input/foundational-model-task-ml4sci/task4-b/Dataset/LR\",\"/kaggle/input/foundational-model-task-ml4sci/task4-b/Dataset/HR\", transform=transform)\n",
    "\n",
    "\n",
    "# Train/Validation Split (90:10)\n",
    "train_size = int(0.9 * len(dataset))\n",
    "val_size = len(dataset) - train_size\n",
    "train_dataset, val_dataset = random_split(dataset, [train_size, val_size])\n",
    "\n",
    "train_loader = DataLoader(train_dataset, batch_size=16, shuffle=True)\n",
    "val_loader = DataLoader(val_dataset, batch_size=16)"
   ]
  },
  {
   "cell_type": "code",
   "execution_count": 16,
   "id": "5edac0ee",
   "metadata": {
    "execution": {
     "iopub.execute_input": "2025-03-27T23:09:09.868326Z",
     "iopub.status.busy": "2025-03-27T23:09:09.868071Z",
     "iopub.status.idle": "2025-03-27T23:09:09.874560Z",
     "shell.execute_reply": "2025-03-27T23:09:09.873927Z"
    },
    "papermill": {
     "duration": 0.012781,
     "end_time": "2025-03-27T23:09:09.875644",
     "exception": false,
     "start_time": "2025-03-27T23:09:09.862863",
     "status": "completed"
    },
    "tags": []
   },
   "outputs": [],
   "source": [
    "class SuperResMAE(CustomMAE):\n",
    "    def __init__(self, img_size=64, patch_size=8, embed_dim=512, num_heads=8, depth=6):\n",
    "        super(SuperResMAE, self).__init__(img_size, patch_size, embed_dim, num_heads, depth)\n",
    "\n",
    "        # Remove the last Conv2d from the original decoder\n",
    "        self.decoder = nn.Sequential(\n",
    "            nn.ConvTranspose2d(embed_dim, 256, kernel_size=4, stride=2, padding=1),  # 8x8 → 16x16\n",
    "            nn.ReLU(),\n",
    "            nn.ConvTranspose2d(256, 128, kernel_size=4, stride=2, padding=1),  # 16x16 → 32x32\n",
    "            nn.ReLU(),\n",
    "            nn.ConvTranspose2d(128, 64, kernel_size=4, stride=2, padding=1),  # 32x32 → 64x64\n",
    "            nn.ReLU(),\n",
    "        )\n",
    "\n",
    "        # Additional up-convolutions and upsampling\n",
    "        self.extra_upconv = nn.ConvTranspose2d(64, 32, kernel_size=4, stride=2, padding=1)  # 64x64 → 128x128\n",
    "        self.upsample = nn.Upsample(size=(150, 150), mode='bilinear', align_corners=True)\n",
    "        self.final_conv = nn.Conv2d(32, 1, kernel_size=3, stride=1, padding=1)  # 128x128 → 150x150 (smoothing)\n",
    "\n",
    "    def forward(self, x):\n",
    "        encoded = self.encoder(self.patch_embed(x).flatten(2).transpose(1, 2) + self.pos_embed)\n",
    "        encoded = encoded.view(x.shape[0], self.embed_dim, self.img_size // self.patch_size, self.img_size // self.patch_size)\n",
    "        \n",
    "        x = self.decoder(encoded)  # Decode to 64x64\n",
    "        x = F.relu(self.extra_upconv(x))  # Upscale to 128x128\n",
    "        x = self.upsample(x)  # Upscale to 150x150\n",
    "        x = self.final_conv(x)  # Smooth artifacts\n",
    "\n",
    "        return x\n"
   ]
  },
  {
   "cell_type": "code",
   "execution_count": null,
   "id": "51f3f858",
   "metadata": {
    "execution": {
     "iopub.execute_input": "2025-03-27T23:09:09.885222Z",
     "iopub.status.busy": "2025-03-27T23:09:09.885002Z",
     "iopub.status.idle": "2025-03-27T23:09:11.358071Z",
     "shell.execute_reply": "2025-03-27T23:09:11.357242Z"
    },
    "papermill": {
     "duration": 1.479309,
     "end_time": "2025-03-27T23:09:11.359372",
     "exception": false,
     "start_time": "2025-03-27T23:09:09.880063",
     "status": "completed"
    },
    "tags": []
   },
   "outputs": [
    {
     "name": "stderr",
     "output_type": "stream",
     "text": [
      "/usr/local/lib/python3.10/dist-packages/torch/nn/modules/transformer.py:379: UserWarning: enable_nested_tensor is True, but self.use_nested_tensor is False because encoder_layer.self_attn.batch_first was not True(use batch_first for better inference performance)\n",
      "  warnings.warn(\n",
      "<ipython-input-17-79088682de91>:4: FutureWarning: You are using `torch.load` with `weights_only=False` (the current default value), which uses the default pickle module implicitly. It is possible to construct malicious pickle data which will execute arbitrary code during unpickling (See https://github.com/pytorch/pytorch/blob/main/SECURITY.md#untrusted-models for more details). In a future release, the default value for `weights_only` will be flipped to `True`. This limits the functions that could be executed during unpickling. Arbitrary objects will no longer be allowed to be loaded via this mode unless they are explicitly allowlisted by the user via `torch.serialization.add_safe_globals`. We recommend you start setting `weights_only=True` for any use case where you don't have full control of the loaded file. Please open an issue on GitHub for any issues related to this experimental feature.\n",
      "  model.load_state_dict(torch.load(\"/kaggle/input/pretrained-mae/pytorch/default/1/pretrainedmae_epoch10.pth\"), strict=False)  # Load weights\n"
     ]
    },
    {
     "data": {
      "text/plain": [
       "_IncompatibleKeys(missing_keys=['extra_upconv.weight', 'extra_upconv.bias', 'final_conv.weight', 'final_conv.bias'], unexpected_keys=['decoder.6.weight', 'decoder.6.bias'])"
      ]
     },
     "execution_count": 17,
     "metadata": {},
     "output_type": "execute_result"
    }
   ],
   "source": [
    "# Load Model\n",
    "device = torch.device(\"cuda\" if torch.cuda.is_available() else \"cpu\")\n",
    "model = SuperResMAE().to(device)\n",
    "model.load_state_dict(torch.load(\"/kaggle/input/pretrained-mae/pytorch/default/1/pretrainedmae_epoch10.pth\"), strict=False)  # Load weights"
   ]
  },
  {
   "cell_type": "code",
   "execution_count": 18,
   "id": "45078188",
   "metadata": {
    "execution": {
     "iopub.execute_input": "2025-03-27T23:09:11.370176Z",
     "iopub.status.busy": "2025-03-27T23:09:11.369925Z",
     "iopub.status.idle": "2025-03-27T23:47:06.592264Z",
     "shell.execute_reply": "2025-03-27T23:47:06.591418Z"
    },
    "papermill": {
     "duration": 2275.229355,
     "end_time": "2025-03-27T23:47:06.593809",
     "exception": false,
     "start_time": "2025-03-27T23:09:11.364454",
     "status": "completed"
    },
    "tags": []
   },
   "outputs": [
    {
     "name": "stdout",
     "output_type": "stream",
     "text": [
      "Epoch [1/50], Train Loss: 1.9971, Val Loss: 0.0941\n",
      "Epoch [2/50], Train Loss: 0.7509, Val Loss: 0.0585\n",
      "Epoch [3/50], Train Loss: 0.5271, Val Loss: 0.0356\n",
      "Epoch [4/50], Train Loss: 0.4341, Val Loss: 0.0341\n",
      "Epoch [5/50], Train Loss: 0.3835, Val Loss: 0.0294\n",
      "Encoder Unfrozen!\n",
      "Epoch [6/50], Train Loss: 0.4161, Val Loss: 0.0218\n",
      "Epoch [7/50], Train Loss: 0.1882, Val Loss: 0.0154\n",
      "Epoch [8/50], Train Loss: 0.1530, Val Loss: 0.0164\n",
      "Epoch [9/50], Train Loss: 0.1313, Val Loss: 0.0114\n",
      "Epoch [10/50], Train Loss: 0.1197, Val Loss: 0.0139\n",
      "Epoch [11/50], Train Loss: 0.1140, Val Loss: 0.0130\n",
      "Epoch [12/50], Train Loss: 0.1089, Val Loss: 0.0118\n",
      "Epoch [13/50], Train Loss: 0.1007, Val Loss: 0.0158\n",
      "Epoch [14/50], Train Loss: 0.0987, Val Loss: 0.0117\n",
      "Epoch [15/50], Train Loss: 0.0986, Val Loss: 0.0110\n",
      "Epoch [16/50], Train Loss: 0.0900, Val Loss: 0.0099\n",
      "Epoch [17/50], Train Loss: 0.0878, Val Loss: 0.0116\n",
      "Epoch [18/50], Train Loss: 0.0892, Val Loss: 0.0092\n",
      "Epoch [19/50], Train Loss: 0.0854, Val Loss: 0.0105\n",
      "Epoch [20/50], Train Loss: 0.0831, Val Loss: 0.0083\n",
      "Epoch [21/50], Train Loss: 0.0821, Val Loss: 0.0086\n",
      "Epoch [22/50], Train Loss: 0.8295, Val Loss: 0.2631\n",
      "Epoch [23/50], Train Loss: 1.9050, Val Loss: 0.1780\n",
      "Epoch [24/50], Train Loss: 3.1175, Val Loss: 0.3900\n",
      "Epoch [25/50], Train Loss: 3.3143, Val Loss: 0.3656\n",
      "Epoch [26/50], Train Loss: 3.4544, Val Loss: 0.3952\n",
      "Epoch [27/50], Train Loss: 3.5807, Val Loss: 0.3973\n",
      "Epoch [28/50], Train Loss: 3.5756, Val Loss: 0.3954\n",
      "Epoch [29/50], Train Loss: 3.5779, Val Loss: 0.3982\n",
      "Epoch [30/50], Train Loss: 3.5999, Val Loss: 0.3975\n",
      "Epoch [31/50], Train Loss: 3.5996, Val Loss: 0.3989\n",
      "Epoch [32/50], Train Loss: 3.6001, Val Loss: 0.3978\n",
      "Epoch [33/50], Train Loss: 3.5991, Val Loss: 0.3980\n",
      "Epoch [34/50], Train Loss: 3.6003, Val Loss: 0.3975\n",
      "Epoch [35/50], Train Loss: 3.5991, Val Loss: 0.3981\n",
      "Epoch [36/50], Train Loss: 3.5994, Val Loss: 0.3981\n",
      "Epoch [37/50], Train Loss: 3.5994, Val Loss: 0.3986\n",
      "Epoch [38/50], Train Loss: 3.5676, Val Loss: 0.3977\n",
      "Epoch [39/50], Train Loss: 3.5989, Val Loss: 0.3979\n",
      "Epoch [40/50], Train Loss: 3.5978, Val Loss: 0.3976\n",
      "Epoch [41/50], Train Loss: 3.5974, Val Loss: 0.3989\n",
      "Epoch [42/50], Train Loss: 3.5980, Val Loss: 0.3975\n",
      "Epoch [43/50], Train Loss: 3.5837, Val Loss: 0.3960\n",
      "Epoch [44/50], Train Loss: 3.5916, Val Loss: 0.3981\n",
      "Epoch [45/50], Train Loss: 3.5967, Val Loss: 0.3977\n",
      "Epoch [46/50], Train Loss: 3.5974, Val Loss: 0.3989\n",
      "Epoch [47/50], Train Loss: 3.5970, Val Loss: 0.3980\n",
      "Epoch [48/50], Train Loss: 3.5978, Val Loss: 0.3978\n",
      "Epoch [49/50], Train Loss: 3.5977, Val Loss: 0.3978\n",
      "Epoch [50/50], Train Loss: 3.5967, Val Loss: 0.3981\n"
     ]
    },
    {
     "name": "stderr",
     "output_type": "stream",
     "text": [
      "\u001b[34m\u001b[1mwandb\u001b[0m:                                                                                \n",
      "\u001b[34m\u001b[1mwandb\u001b[0m: \n",
      "\u001b[34m\u001b[1mwandb\u001b[0m: Run history:\n",
      "\u001b[34m\u001b[1mwandb\u001b[0m:      epoch ▁▁▁▁▂▂▂▂▂▂▃▃▃▃▃▄▄▄▄▄▄▅▅▅▅▅▅▆▆▆▆▆▆▇▇▇▇███\n",
      "\u001b[34m\u001b[1mwandb\u001b[0m: train_loss ▅▂▂▂▂▁▁▁▁▁▁▁▁▁▁▁▁▂▅▇████████████████████\n",
      "\u001b[34m\u001b[1mwandb\u001b[0m:   val_loss ▃▂▁▁▁▁▁▁▁▁▁▁▁▁▁▁▁▁▆▄▇███████████████████\n",
      "\u001b[34m\u001b[1mwandb\u001b[0m: \n",
      "\u001b[34m\u001b[1mwandb\u001b[0m: Run summary:\n",
      "\u001b[34m\u001b[1mwandb\u001b[0m:      epoch 49\n",
      "\u001b[34m\u001b[1mwandb\u001b[0m: train_loss 0.00639\n",
      "\u001b[34m\u001b[1mwandb\u001b[0m:   val_loss 0.00632\n",
      "\u001b[34m\u001b[1mwandb\u001b[0m: \n",
      "\u001b[34m\u001b[1mwandb\u001b[0m: 🚀 View run \u001b[33mfirm-vortex-3\u001b[0m at: \u001b[34m\u001b[4mhttps://wandb.ai/pechetti-1/super-resolution-task/runs/jxbm1zct\u001b[0m\n",
      "\u001b[34m\u001b[1mwandb\u001b[0m: ⭐️ View project at: \u001b[34m\u001b[4mhttps://wandb.ai/pechetti-1/super-resolution-task\u001b[0m\n",
      "\u001b[34m\u001b[1mwandb\u001b[0m: Synced 5 W&B file(s), 0 media file(s), 0 artifact file(s) and 0 other file(s)\n",
      "\u001b[34m\u001b[1mwandb\u001b[0m: Find logs at: \u001b[35m\u001b[1m./wandb/run-20250327_230908-jxbm1zct/logs\u001b[0m\n"
     ]
    }
   ],
   "source": [
    "# Freeze encoder initially\n",
    "for param in model.patch_embed.parameters():\n",
    "    param.requires_grad = False\n",
    "for param in model.encoder.parameters():\n",
    "    param.requires_grad = False\n",
    "\n",
    "optimizer = optim.AdamW(model.parameters(), lr=3e-4)\n",
    "scheduler = optim.lr_scheduler.CosineAnnealingLR(optimizer, T_max=50)\n",
    "criterion = nn.MSELoss()\n",
    "\n",
    "# Training Loop\n",
    "epochs = 50\n",
    "for epoch in range(epochs):\n",
    "    if epoch == 5:  # Unfreeze encoder after 5 epochs\n",
    "        for param in model.patch_embed.parameters():\n",
    "            param.requires_grad = True\n",
    "        for param in model.encoder.parameters():\n",
    "            param.requires_grad = True\n",
    "        print(\"Encoder Unfrozen!\")\n",
    "        \n",
    "    model.train()\n",
    "    train_loss = 0\n",
    "    for lr_imgs, hr_imgs in train_loader:\n",
    "        lr_imgs, hr_imgs = lr_imgs.to(device), hr_imgs.to(device)\n",
    "        \n",
    "        optimizer.zero_grad()\n",
    "        outputs = model(lr_imgs)\n",
    "        \n",
    "        loss = criterion(outputs, hr_imgs)\n",
    "        loss.backward()\n",
    "        optimizer.step()\n",
    "        \n",
    "        train_loss += loss.item()\n",
    "\n",
    "    # Validation\n",
    "    model.eval()\n",
    "    val_loss = 0\n",
    "    with torch.no_grad():\n",
    "        for lr_imgs, hr_imgs in val_loader:\n",
    "            lr_imgs, hr_imgs = lr_imgs.to(device), hr_imgs.to(device)\n",
    "            outputs = model(lr_imgs)\n",
    "            loss = criterion(outputs, hr_imgs)\n",
    "            val_loss += loss.item()\n",
    "\n",
    "    # Log to WandB\n",
    "    wandb.log({\"epoch\": epoch, \"train_loss\": train_loss / len(train_loader), \"val_loss\": val_loss / len(val_loader)})\n",
    "\n",
    "    print(f\"Epoch [{epoch+1}/{epochs}], Train Loss: {train_loss:.4f}, Val Loss: {val_loss:.4f}\")\n",
    "\n",
    "    # Save best model\n",
    "    if epoch % 2 == 0:\n",
    "        torch.save(model.state_dict(), f\"superres_model_epoch{epoch}.pth\")\n",
    "\n",
    "# Save final model\n",
    "torch.save(model.state_dict(), \"superres_model_final.pth\")\n",
    "wandb.finish()"
   ]
  },
  {
   "cell_type": "code",
   "execution_count": null,
   "id": "bb7227c1",
   "metadata": {
    "papermill": {
     "duration": 0.00679,
     "end_time": "2025-03-27T23:47:06.608002",
     "exception": false,
     "start_time": "2025-03-27T23:47:06.601212",
     "status": "completed"
    },
    "tags": []
   },
   "outputs": [],
   "source": []
  }
 ],
 "metadata": {
  "kaggle": {
   "accelerator": "gpu",
   "dataSources": [
    {
     "datasetId": 6968632,
     "sourceId": 11166963,
     "sourceType": "datasetVersion"
    },
    {
     "isSourceIdPinned": true,
     "modelId": 281371,
     "modelInstanceId": 260212,
     "sourceId": 304941,
     "sourceType": "modelInstanceVersion"
    }
   ],
   "dockerImageVersionId": 30919,
   "isGpuEnabled": true,
   "isInternetEnabled": true,
   "language": "python",
   "sourceType": "notebook"
  },
  "kernelspec": {
   "display_name": "Python 3",
   "language": "python",
   "name": "python3"
  },
  "language_info": {
   "codemirror_mode": {
    "name": "ipython",
    "version": 3
   },
   "file_extension": ".py",
   "mimetype": "text/x-python",
   "name": "python",
   "nbconvert_exporter": "python",
   "pygments_lexer": "ipython3",
   "version": "3.10.12"
  },
  "papermill": {
   "default_parameters": {},
   "duration": 2293.396968,
   "end_time": "2025-03-27T23:47:08.339031",
   "environment_variables": {},
   "exception": null,
   "input_path": "__notebook__.ipynb",
   "output_path": "__notebook__.ipynb",
   "parameters": {},
   "start_time": "2025-03-27T23:08:54.942063",
   "version": "2.6.0"
  }
 },
 "nbformat": 4,
 "nbformat_minor": 5
}
