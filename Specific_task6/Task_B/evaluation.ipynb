{
 "cells": [
  {
   "cell_type": "code",
   "execution_count": 14,
   "metadata": {
    "_cell_guid": "b1076dfc-b9ad-4769-8c92-a6c4dae69d19",
    "_uuid": "8f2839f25d086af736a60e9eeb907d3b93b6e0e5",
    "execution": {
     "iopub.execute_input": "2025-03-28T10:27:46.238941Z",
     "iopub.status.busy": "2025-03-28T10:27:46.238613Z",
     "iopub.status.idle": "2025-03-28T10:27:46.246375Z",
     "shell.execute_reply": "2025-03-28T10:27:46.245615Z",
     "shell.execute_reply.started": "2025-03-28T10:27:46.238916Z"
    },
    "trusted": true
   },
   "outputs": [],
   "source": [
    "# Custom Dataset\n",
    "import torchvision.transforms as transforms\n",
    "import cv2\n",
    "from torch.utils.data import Dataset\n",
    "class SuperResDataset(Dataset):\n",
    "    def __init__(self, lr_dir, hr_dir, transform=None):\n",
    "        self.lr_file_list = [os.path.join(lr_dir, f) for f in os.listdir(lr_dir) if f.endswith('.npy')]\n",
    "        self.hr_file_list = [os.path.join(\"/\".join(f.split('/')[:-2]),\"HR\",f.split('/')[-1]) for f in self.lr_file_list]\n",
    "\n",
    "        # print(self.lr_file_list[0],self.hr_file_list[0])\n",
    "        self.lr_transform = transforms.Compose([\n",
    "            # transforms.ToTensor(),  # Convert to Tensor (C, H, W)\n",
    "            transforms.Resize((64, 64), interpolation=transforms.InterpolationMode.BICUBIC),  # Resize LR images\n",
    "        ])\n",
    "\n",
    "        self.hr_transform = transforms.Compose([\n",
    "            # transforms.ToTensor(),  # Convert HR images to Tensor (C, H, W)\n",
    "        ])\n",
    "\n",
    "    def __len__(self):\n",
    "        return len(self.lr_file_list)\n",
    "\n",
    "    def __getitem__(self, idx):\n",
    "        lr = np.load(self.lr_file_list[idx]).astype(np.float32)  # (75,75)\n",
    "        hr = np.load(self.hr_file_list[idx]).astype(np.float32)  # (150,150)\n",
    "\n",
    "        # Ensure shape (1, H, W) for grayscale images\n",
    "        if len(lr.shape) == 2:\n",
    "            lr = np.expand_dims(lr, axis=0)  # (1, 75, 75)\n",
    "        if len(hr.shape) == 2:\n",
    "            hr = np.expand_dims(hr, axis=0)  # (1, 150, 150)''\n",
    "\n",
    "        # Apply transforms\n",
    "        lr = self.lr_transform(torch.from_numpy(lr))\n",
    "        hr = self.hr_transform(torch.from_numpy(hr))\n",
    "\n",
    "        # Normalize images to [-1,1]\n",
    "        lr = (lr - lr.min()) / (lr.max() - lr.min())  # Normalize\n",
    "        hr = (hr - hr.min()) / (hr.max() - hr.min())  # Normalize\n",
    "\n",
    "       \n",
    "\n",
    "        return lr, hr"
   ]
  },
  {
   "cell_type": "code",
   "execution_count": 15,
   "metadata": {
    "execution": {
     "iopub.execute_input": "2025-03-28T10:27:49.196985Z",
     "iopub.status.busy": "2025-03-28T10:27:49.196570Z",
     "iopub.status.idle": "2025-03-28T10:27:49.201935Z",
     "shell.execute_reply": "2025-03-28T10:27:49.201004Z",
     "shell.execute_reply.started": "2025-03-28T10:27:49.196948Z"
    },
    "trusted": true
   },
   "outputs": [],
   "source": [
    "device = torch.device(\"cuda\" if torch.cuda.is_available() else \"cpu\")"
   ]
  },
  {
   "cell_type": "code",
   "execution_count": 16,
   "metadata": {
    "execution": {
     "iopub.execute_input": "2025-03-28T10:28:02.216258Z",
     "iopub.status.busy": "2025-03-28T10:28:02.215950Z",
     "iopub.status.idle": "2025-03-28T10:28:02.584725Z",
     "shell.execute_reply": "2025-03-28T10:28:02.584089Z",
     "shell.execute_reply.started": "2025-03-28T10:28:02.216233Z"
    },
    "trusted": true
   },
   "outputs": [],
   "source": [
    "from torch.utils.data import random_split, DataLoader\n",
    "\n",
    "\n",
    "# Define transformation\n",
    "transform = transforms.Compose([\n",
    "    transforms.Normalize(mean=[0.5], std=[0.5])\n",
    "])\n",
    "\n",
    "# Load dataset\n",
    "dataset = SuperResDataset(\"/kaggle/input/foundational-model-task-ml4sci/task4-b/Dataset/LR\",\"/kaggle/input/foundational-model-task-ml4sci/task4-b/Dataset/HR\", transform=transform)\n",
    "\n",
    "\n",
    "# Train/Validation Split (90:10)\n",
    "train_size = int(0.9 * len(dataset))\n",
    "val_size = len(dataset) - train_size\n",
    "train_dataset, val_dataset = random_split(dataset, [train_size, val_size])\n",
    "\n",
    "train_loader = DataLoader(train_dataset, batch_size=16, shuffle=True)\n",
    "val_loader = DataLoader(val_dataset, batch_size=16)"
   ]
  },
  {
   "cell_type": "code",
   "execution_count": 18,
   "metadata": {
    "execution": {
     "iopub.execute_input": "2025-03-28T10:28:46.735456Z",
     "iopub.status.busy": "2025-03-28T10:28:46.735159Z",
     "iopub.status.idle": "2025-03-28T10:28:46.743223Z",
     "shell.execute_reply": "2025-03-28T10:28:46.742360Z",
     "shell.execute_reply.started": "2025-03-28T10:28:46.735431Z"
    },
    "trusted": true
   },
   "outputs": [],
   "source": [
    "import torch\n",
    "import torch.nn as nn\n",
    "import torch.nn.functional as F\n",
    "import torchvision.transforms as transforms\n",
    "\n",
    "class CustomMAE(nn.Module):\n",
    "    def __init__(self, img_size=64, patch_size=8, embed_dim=512, num_heads=8, depth=6):\n",
    "        super(CustomMAE, self).__init__()\n",
    "\n",
    "        self.img_size = img_size\n",
    "        self.patch_size = patch_size\n",
    "        self.num_patches = (img_size // patch_size) ** 2\n",
    "        self.embed_dim = embed_dim\n",
    "\n",
    "        # Patch embedding (Linear Projection + Positional Encoding)\n",
    "        self.patch_embed = nn.Conv2d(1, embed_dim, kernel_size=patch_size, stride=patch_size)\n",
    "        self.pos_embed = nn.Parameter(torch.randn(1, self.num_patches, embed_dim))\n",
    "\n",
    "        # Transformer Encoder (Inspired by ViT)\n",
    "        self.encoder = nn.TransformerEncoder(\n",
    "            nn.TransformerEncoderLayer(d_model=embed_dim, nhead=num_heads, dim_feedforward=1024, dropout=0.1),\n",
    "            num_layers=depth\n",
    "        )\n",
    "\n",
    "        # Fully connected layer to reshape encoded features for decoding\n",
    "        # self.fc = nn.Linear(embed_dim, embed_dim * (patch_size // 2) * (patch_size // 2))\n",
    "\n",
    "        # Decoder with Up-Convolutions\n",
    "        self.decoder = nn.Sequential(\n",
    "            nn.ConvTranspose2d(embed_dim, 256, kernel_size=4, stride=2, padding=1),  # 8x8 → 16x16\n",
    "            nn.ReLU(),\n",
    "            nn.ConvTranspose2d(256, 128, kernel_size=4, stride=2, padding=1),  # 16x16 → 32x32\n",
    "            nn.ReLU(),\n",
    "            nn.ConvTranspose2d(128, 64, kernel_size=4, stride=2, padding=1),  # 32x32 → 64x64\n",
    "            nn.ReLU(),\n",
    "            nn.Conv2d(64, 1, kernel_size=3, stride=1, padding=1)  # Output: 64x64\n",
    "        )\n",
    "\n",
    "    def forward(self, x):\n",
    "        B, C, H, W = x.shape  # Bx1x64x64\n",
    "        patches = self.patch_embed(x).flatten(2).transpose(1, 2)  # Convert to patches\n",
    "        patches = patches + self.pos_embed  # Add positional embeddings\n",
    "        \n",
    "        # masked_patches = patches * mask.unsqueeze(-1)  # Apply mask\n",
    "\n",
    "        encoded = self.encoder(patches)  # Transformer encoding\n",
    "        # print(encoded.shape)\n",
    "\n",
    "        # Reshape for decoder\n",
    "        # encoded = self.fc(encoded)  # Fully connected to reshape embedding\n",
    "        encoded = encoded.view(B, self.embed_dim, H // self.patch_size, W // self.patch_size)\n",
    "\n",
    "        # Decode using up-convolutions\n",
    "        reconstructed_img = self.decoder(encoded)\n",
    "\n",
    "        return reconstructed_img"
   ]
  },
  {
   "cell_type": "code",
   "execution_count": 6,
   "metadata": {
    "execution": {
     "iopub.execute_input": "2025-03-28T10:17:43.101271Z",
     "iopub.status.busy": "2025-03-28T10:17:43.100914Z",
     "iopub.status.idle": "2025-03-28T10:17:44.013905Z",
     "shell.execute_reply": "2025-03-28T10:17:44.013051Z",
     "shell.execute_reply.started": "2025-03-28T10:17:43.101245Z"
    },
    "trusted": true
   },
   "outputs": [
    {
     "name": "stderr",
     "output_type": "stream",
     "text": [
      "<ipython-input-6-c4a857d53e29>:3: FutureWarning: You are using `torch.load` with `weights_only=False` (the current default value), which uses the default pickle module implicitly. It is possible to construct malicious pickle data which will execute arbitrary code during unpickling (See https://github.com/pytorch/pytorch/blob/main/SECURITY.md#untrusted-models for more details). In a future release, the default value for `weights_only` will be flipped to `True`. This limits the functions that could be executed during unpickling. Arbitrary objects will no longer be allowed to be loaded via this mode unless they are explicitly allowlisted by the user via `torch.serialization.add_safe_globals`. We recommend you start setting `weights_only=True` for any use case where you don't have full control of the loaded file. Please open an issue on GitHub for any issues related to this experimental feature.\n",
      "  pretrained_mae.load_state_dict(torch.load(\"/kaggle/input/model-weights/pytorch/default/1/models/pretrainedmae_epoch10.pth\"))\n"
     ]
    },
    {
     "data": {
      "text/plain": [
       "<All keys matched successfully>"
      ]
     },
     "execution_count": 6,
     "metadata": {},
     "output_type": "execute_result"
    }
   ],
   "source": [
    "# Load Pretrained MAE\n",
    "pretrained_mae = CustomMAE()  # Load pre-trained weights if available\n",
    "pretrained_mae.load_state_dict(torch.load(\"/kaggle/input/model-weights/pytorch/default/1/models/pretrainedmae_epoch10.pth\"))"
   ]
  },
  {
   "cell_type": "code",
   "execution_count": 19,
   "metadata": {
    "execution": {
     "iopub.execute_input": "2025-03-28T10:28:59.392701Z",
     "iopub.status.busy": "2025-03-28T10:28:59.392385Z",
     "iopub.status.idle": "2025-03-28T10:28:59.399529Z",
     "shell.execute_reply": "2025-03-28T10:28:59.398653Z",
     "shell.execute_reply.started": "2025-03-28T10:28:59.392673Z"
    },
    "trusted": true
   },
   "outputs": [],
   "source": [
    "class SuperResMAE(CustomMAE):\n",
    "    def __init__(self, img_size=64, patch_size=8, embed_dim=512, num_heads=8, depth=6):\n",
    "        super(SuperResMAE, self).__init__(img_size, patch_size, embed_dim, num_heads, depth)\n",
    "\n",
    "        # Remove the last Conv2d from the original decoder\n",
    "        self.decoder = nn.Sequential(\n",
    "            nn.ConvTranspose2d(embed_dim, 256, kernel_size=4, stride=2, padding=1),  # 8x8 → 16x16\n",
    "            nn.ReLU(),\n",
    "            nn.ConvTranspose2d(256, 128, kernel_size=4, stride=2, padding=1),  # 16x16 → 32x32\n",
    "            nn.ReLU(),\n",
    "            nn.ConvTranspose2d(128, 64, kernel_size=4, stride=2, padding=1),  # 32x32 → 64x64\n",
    "            nn.ReLU(),\n",
    "        )\n",
    "\n",
    "        # Additional up-convolutions and upsampling\n",
    "        self.extra_upconv = nn.ConvTranspose2d(64, 32, kernel_size=4, stride=2, padding=1)  # 64x64 → 128x128\n",
    "        self.upsample = nn.Upsample(size=(150, 150), mode='bilinear', align_corners=True)\n",
    "        self.final_conv = nn.Conv2d(32, 1, kernel_size=3, stride=1, padding=1)  # 128x128 → 150x150 (smoothing)\n",
    "\n",
    "    def forward(self, x):\n",
    "        encoded = self.encoder(self.patch_embed(x).flatten(2).transpose(1, 2) + self.pos_embed)\n",
    "        encoded = encoded.view(x.shape[0], self.embed_dim, self.img_size // self.patch_size, self.img_size // self.patch_size)\n",
    "        \n",
    "        x = self.decoder(encoded)  # Decode to 64x64\n",
    "        x = F.relu(self.extra_upconv(x))  # Upscale to 128x128\n",
    "        x = self.upsample(x)  # Upscale to 150x150\n",
    "        x = self.final_conv(x)  # Smooth artifacts\n",
    "\n",
    "        return x"
   ]
  },
  {
   "cell_type": "code",
   "execution_count": 20,
   "metadata": {
    "execution": {
     "iopub.execute_input": "2025-03-28T10:30:02.701678Z",
     "iopub.status.busy": "2025-03-28T10:30:02.701352Z",
     "iopub.status.idle": "2025-03-28T10:30:03.626761Z",
     "shell.execute_reply": "2025-03-28T10:30:03.626102Z",
     "shell.execute_reply.started": "2025-03-28T10:30:02.701655Z"
    },
    "trusted": true
   },
   "outputs": [
    {
     "name": "stderr",
     "output_type": "stream",
     "text": [
      "/usr/local/lib/python3.10/dist-packages/torch/nn/modules/transformer.py:379: UserWarning: enable_nested_tensor is True, but self.use_nested_tensor is False because encoder_layer.self_attn.batch_first was not True(use batch_first for better inference performance)\n",
      "  warnings.warn(\n",
      "<ipython-input-20-02456c2a469d>:2: FutureWarning: You are using `torch.load` with `weights_only=False` (the current default value), which uses the default pickle module implicitly. It is possible to construct malicious pickle data which will execute arbitrary code during unpickling (See https://github.com/pytorch/pytorch/blob/main/SECURITY.md#untrusted-models for more details). In a future release, the default value for `weights_only` will be flipped to `True`. This limits the functions that could be executed during unpickling. Arbitrary objects will no longer be allowed to be loaded via this mode unless they are explicitly allowlisted by the user via `torch.serialization.add_safe_globals`. We recommend you start setting `weights_only=True` for any use case where you don't have full control of the loaded file. Please open an issue on GitHub for any issues related to this experimental feature.\n",
      "  model.load_state_dict(torch.load(\"/kaggle/input/model-weights/pytorch/default/1/models/superres_model_epoch20.pth\"))  # Load weights\n"
     ]
    },
    {
     "data": {
      "text/plain": [
       "<All keys matched successfully>"
      ]
     },
     "execution_count": 20,
     "metadata": {},
     "output_type": "execute_result"
    }
   ],
   "source": [
    "model = SuperResMAE().to(device)\n",
    "model.load_state_dict(torch.load(\"/kaggle/input/model-weights/pytorch/default/1/models/superres_model_epoch20.pth\"))  # Load weights"
   ]
  },
  {
   "cell_type": "code",
   "execution_count": null,
   "metadata": {
    "execution": {
     "iopub.execute_input": "2025-03-28T10:33:15.219610Z",
     "iopub.status.busy": "2025-03-28T10:33:15.219311Z",
     "iopub.status.idle": "2025-03-28T10:33:19.190758Z",
     "shell.execute_reply": "2025-03-28T10:33:19.189916Z",
     "shell.execute_reply.started": "2025-03-28T10:33:15.219586Z"
    },
    "trusted": true
   },
   "outputs": [
    {
     "name": "stdout",
     "output_type": "stream",
     "text": [
      "Test PSNR: 618.11, SSIM: 15.3489, MSE: 0.00013130609884337034\n"
     ]
    }
   ],
   "source": [
    "from skimage.metrics import structural_similarity as ssim\n",
    "import math\n",
    "\n",
    "def psnr(img1, img2):\n",
    "    mse = np.mean((img1 - img2) ** 2)\n",
    "    return 20 * math.log10(1.0 / math.sqrt(mse))\n",
    "\n",
    "model.eval()\n",
    "total_psnr, total_ssim = 0, 0\n",
    "test_loss=0\n",
    "criterion = nn.MSELoss()\n",
    "\n",
    "with torch.no_grad():\n",
    "    for lr_imgs, hr_imgs in val_loader:\n",
    "        lr_imgs, hr_imgs = lr_imgs.to(device), hr_imgs.to(device)\n",
    "        outputs = model(lr_imgs)\n",
    "        loss = criterion(outputs, hr_imgs)\n",
    "        test_loss += loss.item()\n",
    "        for i in range(outputs.shape[0]):\n",
    "            output_img = outputs[i].cpu().numpy().squeeze()\n",
    "            hr_img = hr_imgs[i].cpu().numpy().squeeze()\n",
    "\n",
    "            total_psnr += psnr(output_img, hr_img)\n",
    "            total_ssim += ssim(output_img, hr_img, data_range=1)\n",
    "        to\n",
    "\n",
    "print(f\"Test PSNR: {total_psnr / len(val_loader):.2f}, SSIM: {total_ssim / len(val_loader):.4f}, MSE: {test_loss / len(val_loader)}\")\n"
   ]
  },
  {
   "cell_type": "code",
   "execution_count": null,
   "metadata": {
    "trusted": true
   },
   "outputs": [],
   "source": [
    "import matplotlib.pyplot as plt\n",
    "\n",
    "# Function to display images\n",
    "def display_images(lr_img, hr_img, sr_img, psnr_value):\n",
    "    fig, axes = plt.subplots(1, 3, figsize=(15, 5))\n",
    "    axes[0].imshow(lr_img.squeeze(), cmap='gray')\n",
    "    axes[0].set_title(\"Low-Resolution (LR)\")\n",
    "    axes[0].axis('off')\n",
    "\n",
    "    axes[1].imshow(hr_img.squeeze(), cmap='gray')\n",
    "    axes[1].set_title(\"High-Resolution (HR)\")\n",
    "    axes[1].axis('off')\n",
    "\n",
    "    axes[2].imshow(sr_img.squeeze(), cmap='gray')\n",
    "    axes[2].set_title(f\"Super-Resolved (SR)\\nPSNR: {psnr_value:.2f}\")\n",
    "    axes[2].axis('off')\n",
    "\n",
    "    plt.show()\n",
    "\n",
    "# Display a few sample images\n",
    "model.eval()\n",
    "with torch.no_grad():\n",
    "    for lr_imgs, hr_imgs in val_loader:\n",
    "        lr_imgs, hr_imgs = lr_imgs.to(device), hr_imgs.to(device)\n",
    "        outputs = model(lr_imgs)\n",
    "\n",
    "        for i in range(min(3, outputs.shape[0])):  # Display up to 3 samples\n",
    "            lr_img = lr_imgs[i].cpu().numpy()\n",
    "            hr_img = hr_imgs[i].cpu().numpy()\n",
    "            sr_img = outputs[i].cpu().numpy()\n",
    "\n",
    "            psnr_value = psnr(sr_img.squeeze(), hr_img.squeeze())\n",
    "            display_images(lr_img, hr_img, sr_img, psnr_value)\n",
    "        break  # Only display one batch"
   ]
  }
 ],
 "metadata": {
  "kaggle": {
   "accelerator": "gpu",
   "dataSources": [
    {
     "datasetId": 6968632,
     "sourceId": 11166963,
     "sourceType": "datasetVersion"
    },
    {
     "isSourceIdPinned": true,
     "modelId": 281821,
     "modelInstanceId": 260665,
     "sourceId": 305517,
     "sourceType": "modelInstanceVersion"
    }
   ],
   "dockerImageVersionId": 30919,
   "isGpuEnabled": true,
   "isInternetEnabled": true,
   "language": "python",
   "sourceType": "notebook"
  },
  "kernelspec": {
   "display_name": "Python 3",
   "language": "python",
   "name": "python3"
  },
  "language_info": {
   "codemirror_mode": {
    "name": "ipython",
    "version": 3
   },
   "file_extension": ".py",
   "mimetype": "text/x-python",
   "name": "python",
   "nbconvert_exporter": "python",
   "pygments_lexer": "ipython3",
   "version": "3.10.12"
  }
 },
 "nbformat": 4,
 "nbformat_minor": 4
}
