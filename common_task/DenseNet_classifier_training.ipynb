{
 "cells": [
  {
   "cell_type": "code",
   "execution_count": 1,
   "metadata": {
    "execution": {
     "iopub.execute_input": "2025-03-26T17:40:16.390394Z",
     "iopub.status.busy": "2025-03-26T17:40:16.390100Z",
     "iopub.status.idle": "2025-03-26T17:40:24.343245Z",
     "shell.execute_reply": "2025-03-26T17:40:24.342598Z",
     "shell.execute_reply.started": "2025-03-26T17:40:16.390370Z"
    },
    "trusted": true
   },
   "outputs": [],
   "source": [
    "import os\n",
    "import numpy as np\n",
    "import torch\n",
    "import torch.nn as nn\n",
    "import torch.optim as optim\n",
    "import wandb\n",
    "from torchvision import models, transforms\n",
    "from torch.utils.data import Dataset, DataLoader\n",
    "from PIL import Image\n",
    "import matplotlib.pyplot as plt\n",
    "import random"
   ]
  },
  {
   "cell_type": "code",
   "execution_count": 9,
   "metadata": {
    "_cell_guid": "b1076dfc-b9ad-4769-8c92-a6c4dae69d19",
    "_uuid": "8f2839f25d086af736a60e9eeb907d3b93b6e0e5",
    "execution": {
     "iopub.execute_input": "2025-03-26T17:47:21.768553Z",
     "iopub.status.busy": "2025-03-26T17:47:21.768241Z",
     "iopub.status.idle": "2025-03-26T17:47:21.775055Z",
     "shell.execute_reply": "2025-03-26T17:47:21.774165Z",
     "shell.execute_reply.started": "2025-03-26T17:47:21.768530Z"
    },
    "trusted": true
   },
   "outputs": [],
   "source": [
    "# Define dataset class\n",
    "class LensDataset(Dataset):\n",
    "    def __init__(self, root_dir, transform=None):\n",
    "        self.root_dir = root_dir\n",
    "        self.transform = transform\n",
    "        self.classes = [\"no\", \"sphere\", \"vort\"]\n",
    "        self.image_paths = []\n",
    "        self.labels = []\n",
    "        \n",
    "        # Load file paths and labels\n",
    "        for label, class_name in enumerate(self.classes):\n",
    "            class_dir = os.path.join(root_dir, class_name)\n",
    "            for file in os.listdir(class_dir):\n",
    "                if file.endswith('.npy'):\n",
    "                    self.image_paths.append(os.path.join(class_dir, file))\n",
    "                    self.labels.append(label)\n",
    "\n",
    "    def __len__(self):\n",
    "        return len(self.image_paths)\n",
    "\n",
    "    def __getitem__(self, idx):\n",
    "        image_path = self.image_paths[idx]\n",
    "        label = self.labels[idx]\n",
    "        \n",
    "        # Load image from .npy file\n",
    "        image = np.load(image_path)\n",
    "        image = np.stack([image] * 3, axis=-1)\n",
    "        image = torch.from_numpy(image).float()\n",
    "\n",
    "            \n",
    "\n",
    "        if self.transform:\n",
    "            image = self.transform(image)\n",
    "\n",
    "        return image, label\n",
    "\n"
   ]
  },
  {
   "cell_type": "code",
   "execution_count": null,
   "metadata": {
    "execution": {
     "iopub.execute_input": "2025-03-26T17:47:44.365028Z",
     "iopub.status.busy": "2025-03-26T17:47:44.364679Z",
     "iopub.status.idle": "2025-03-26T17:47:59.012922Z",
     "shell.execute_reply": "2025-03-26T17:47:59.011795Z",
     "shell.execute_reply.started": "2025-03-26T17:47:44.365000Z"
    },
    "trusted": true
   },
   "outputs": [
    {
     "ename": "KeyboardInterrupt",
     "evalue": "",
     "output_type": "error",
     "traceback": [
      "\u001b[0;31m---------------------------------------------------------------------------\u001b[0m",
      "\u001b[0;31mKeyboardInterrupt\u001b[0m                         Traceback (most recent call last)",
      "\u001b[0;32m<ipython-input-11-d9907a5d6bdf>\u001b[0m in \u001b[0;36m<cell line: 26>\u001b[0;34m()\u001b[0m\n\u001b[1;32m     24\u001b[0m     \u001b[0mplt\u001b[0m\u001b[0;34m.\u001b[0m\u001b[0mshow\u001b[0m\u001b[0;34m(\u001b[0m\u001b[0;34m)\u001b[0m\u001b[0;34m\u001b[0m\u001b[0;34m\u001b[0m\u001b[0m\n\u001b[1;32m     25\u001b[0m \u001b[0;31m# Display samples from train and val set\u001b[0m\u001b[0;34m\u001b[0m\u001b[0;34m\u001b[0m\u001b[0m\n\u001b[0;32m---> 26\u001b[0;31m \u001b[0mshow_class_samples\u001b[0m\u001b[0;34m(\u001b[0m\u001b[0mtrain_dataset\u001b[0m\u001b[0;34m,\u001b[0m \u001b[0;34m\"Train Set\"\u001b[0m\u001b[0;34m)\u001b[0m\u001b[0;34m\u001b[0m\u001b[0;34m\u001b[0m\u001b[0m\n\u001b[0m\u001b[1;32m     27\u001b[0m \u001b[0mshow_class_samples\u001b[0m\u001b[0;34m(\u001b[0m\u001b[0mval_dataset\u001b[0m\u001b[0;34m,\u001b[0m \u001b[0;34m\"Validation Set\"\u001b[0m\u001b[0;34m)\u001b[0m\u001b[0;34m\u001b[0m\u001b[0;34m\u001b[0m\u001b[0m\n",
      "\u001b[0;32m<ipython-input-11-d9907a5d6bdf>\u001b[0m in \u001b[0;36mshow_class_samples\u001b[0;34m(dataset, title, num_images)\u001b[0m\n\u001b[1;32m     17\u001b[0m     \u001b[0mfig\u001b[0m\u001b[0;34m,\u001b[0m \u001b[0maxes\u001b[0m \u001b[0;34m=\u001b[0m \u001b[0mplt\u001b[0m\u001b[0;34m.\u001b[0m\u001b[0msubplots\u001b[0m\u001b[0;34m(\u001b[0m\u001b[0mlen\u001b[0m\u001b[0;34m(\u001b[0m\u001b[0mdataset\u001b[0m\u001b[0;34m.\u001b[0m\u001b[0mclasses\u001b[0m\u001b[0;34m)\u001b[0m\u001b[0;34m,\u001b[0m \u001b[0mnum_images\u001b[0m\u001b[0;34m,\u001b[0m \u001b[0mfigsize\u001b[0m\u001b[0;34m=\u001b[0m\u001b[0;34m(\u001b[0m\u001b[0;36m15\u001b[0m\u001b[0;34m,\u001b[0m \u001b[0;36m10\u001b[0m\u001b[0;34m)\u001b[0m\u001b[0;34m)\u001b[0m\u001b[0;34m\u001b[0m\u001b[0;34m\u001b[0m\u001b[0m\n\u001b[1;32m     18\u001b[0m     \u001b[0;32mfor\u001b[0m \u001b[0mclass_idx\u001b[0m\u001b[0;34m,\u001b[0m \u001b[0mclass_name\u001b[0m \u001b[0;32min\u001b[0m \u001b[0menumerate\u001b[0m\u001b[0;34m(\u001b[0m\u001b[0mdataset\u001b[0m\u001b[0;34m.\u001b[0m\u001b[0mclasses\u001b[0m\u001b[0;34m)\u001b[0m\u001b[0;34m:\u001b[0m\u001b[0;34m\u001b[0m\u001b[0;34m\u001b[0m\u001b[0m\n\u001b[0;32m---> 19\u001b[0;31m         \u001b[0mclass_samples\u001b[0m \u001b[0;34m=\u001b[0m \u001b[0;34m[\u001b[0m\u001b[0mdataset\u001b[0m\u001b[0;34m[\u001b[0m\u001b[0mi\u001b[0m\u001b[0;34m]\u001b[0m \u001b[0;32mfor\u001b[0m \u001b[0mi\u001b[0m \u001b[0;32min\u001b[0m \u001b[0mrange\u001b[0m\u001b[0;34m(\u001b[0m\u001b[0mlen\u001b[0m\u001b[0;34m(\u001b[0m\u001b[0mdataset\u001b[0m\u001b[0;34m)\u001b[0m\u001b[0;34m)\u001b[0m \u001b[0;32mif\u001b[0m \u001b[0mdataset\u001b[0m\u001b[0;34m.\u001b[0m\u001b[0mlabels\u001b[0m\u001b[0;34m[\u001b[0m\u001b[0mi\u001b[0m\u001b[0;34m]\u001b[0m \u001b[0;34m==\u001b[0m \u001b[0mclass_idx\u001b[0m\u001b[0;34m]\u001b[0m\u001b[0;34m[\u001b[0m\u001b[0;34m:\u001b[0m\u001b[0mnum_images\u001b[0m\u001b[0;34m]\u001b[0m\u001b[0;34m\u001b[0m\u001b[0;34m\u001b[0m\u001b[0m\n\u001b[0m\u001b[1;32m     20\u001b[0m         \u001b[0;32mfor\u001b[0m \u001b[0mj\u001b[0m\u001b[0;34m,\u001b[0m \u001b[0;34m(\u001b[0m\u001b[0mimage\u001b[0m\u001b[0;34m,\u001b[0m \u001b[0mlabel\u001b[0m\u001b[0;34m)\u001b[0m \u001b[0;32min\u001b[0m \u001b[0menumerate\u001b[0m\u001b[0;34m(\u001b[0m\u001b[0mclass_samples\u001b[0m\u001b[0;34m)\u001b[0m\u001b[0;34m:\u001b[0m\u001b[0;34m\u001b[0m\u001b[0;34m\u001b[0m\u001b[0m\n\u001b[1;32m     21\u001b[0m             \u001b[0maxes\u001b[0m\u001b[0;34m[\u001b[0m\u001b[0mclass_idx\u001b[0m\u001b[0;34m,\u001b[0m \u001b[0mj\u001b[0m\u001b[0;34m]\u001b[0m\u001b[0;34m.\u001b[0m\u001b[0mimshow\u001b[0m\u001b[0;34m(\u001b[0m\u001b[0mimage\u001b[0m\u001b[0;34m.\u001b[0m\u001b[0mpermute\u001b[0m\u001b[0;34m(\u001b[0m\u001b[0;36m1\u001b[0m\u001b[0;34m,\u001b[0m \u001b[0;36m2\u001b[0m\u001b[0;34m,\u001b[0m \u001b[0;36m0\u001b[0m\u001b[0;34m)\u001b[0m\u001b[0;34m,\u001b[0m \u001b[0mcmap\u001b[0m\u001b[0;34m=\u001b[0m\u001b[0;34m\"gray\"\u001b[0m\u001b[0;34m)\u001b[0m\u001b[0;34m\u001b[0m\u001b[0;34m\u001b[0m\u001b[0m\n",
      "\u001b[0;32m<ipython-input-11-d9907a5d6bdf>\u001b[0m in \u001b[0;36m<listcomp>\u001b[0;34m(.0)\u001b[0m\n\u001b[1;32m     17\u001b[0m     \u001b[0mfig\u001b[0m\u001b[0;34m,\u001b[0m \u001b[0maxes\u001b[0m \u001b[0;34m=\u001b[0m \u001b[0mplt\u001b[0m\u001b[0;34m.\u001b[0m\u001b[0msubplots\u001b[0m\u001b[0;34m(\u001b[0m\u001b[0mlen\u001b[0m\u001b[0;34m(\u001b[0m\u001b[0mdataset\u001b[0m\u001b[0;34m.\u001b[0m\u001b[0mclasses\u001b[0m\u001b[0;34m)\u001b[0m\u001b[0;34m,\u001b[0m \u001b[0mnum_images\u001b[0m\u001b[0;34m,\u001b[0m \u001b[0mfigsize\u001b[0m\u001b[0;34m=\u001b[0m\u001b[0;34m(\u001b[0m\u001b[0;36m15\u001b[0m\u001b[0;34m,\u001b[0m \u001b[0;36m10\u001b[0m\u001b[0;34m)\u001b[0m\u001b[0;34m)\u001b[0m\u001b[0;34m\u001b[0m\u001b[0;34m\u001b[0m\u001b[0m\n\u001b[1;32m     18\u001b[0m     \u001b[0;32mfor\u001b[0m \u001b[0mclass_idx\u001b[0m\u001b[0;34m,\u001b[0m \u001b[0mclass_name\u001b[0m \u001b[0;32min\u001b[0m \u001b[0menumerate\u001b[0m\u001b[0;34m(\u001b[0m\u001b[0mdataset\u001b[0m\u001b[0;34m.\u001b[0m\u001b[0mclasses\u001b[0m\u001b[0;34m)\u001b[0m\u001b[0;34m:\u001b[0m\u001b[0;34m\u001b[0m\u001b[0;34m\u001b[0m\u001b[0m\n\u001b[0;32m---> 19\u001b[0;31m         \u001b[0mclass_samples\u001b[0m \u001b[0;34m=\u001b[0m \u001b[0;34m[\u001b[0m\u001b[0mdataset\u001b[0m\u001b[0;34m[\u001b[0m\u001b[0mi\u001b[0m\u001b[0;34m]\u001b[0m \u001b[0;32mfor\u001b[0m \u001b[0mi\u001b[0m \u001b[0;32min\u001b[0m \u001b[0mrange\u001b[0m\u001b[0;34m(\u001b[0m\u001b[0mlen\u001b[0m\u001b[0;34m(\u001b[0m\u001b[0mdataset\u001b[0m\u001b[0;34m)\u001b[0m\u001b[0;34m)\u001b[0m \u001b[0;32mif\u001b[0m \u001b[0mdataset\u001b[0m\u001b[0;34m.\u001b[0m\u001b[0mlabels\u001b[0m\u001b[0;34m[\u001b[0m\u001b[0mi\u001b[0m\u001b[0;34m]\u001b[0m \u001b[0;34m==\u001b[0m \u001b[0mclass_idx\u001b[0m\u001b[0;34m]\u001b[0m\u001b[0;34m[\u001b[0m\u001b[0;34m:\u001b[0m\u001b[0mnum_images\u001b[0m\u001b[0;34m]\u001b[0m\u001b[0;34m\u001b[0m\u001b[0;34m\u001b[0m\u001b[0m\n\u001b[0m\u001b[1;32m     20\u001b[0m         \u001b[0;32mfor\u001b[0m \u001b[0mj\u001b[0m\u001b[0;34m,\u001b[0m \u001b[0;34m(\u001b[0m\u001b[0mimage\u001b[0m\u001b[0;34m,\u001b[0m \u001b[0mlabel\u001b[0m\u001b[0;34m)\u001b[0m \u001b[0;32min\u001b[0m \u001b[0menumerate\u001b[0m\u001b[0;34m(\u001b[0m\u001b[0mclass_samples\u001b[0m\u001b[0;34m)\u001b[0m\u001b[0;34m:\u001b[0m\u001b[0;34m\u001b[0m\u001b[0;34m\u001b[0m\u001b[0m\n\u001b[1;32m     21\u001b[0m             \u001b[0maxes\u001b[0m\u001b[0;34m[\u001b[0m\u001b[0mclass_idx\u001b[0m\u001b[0;34m,\u001b[0m \u001b[0mj\u001b[0m\u001b[0;34m]\u001b[0m\u001b[0;34m.\u001b[0m\u001b[0mimshow\u001b[0m\u001b[0;34m(\u001b[0m\u001b[0mimage\u001b[0m\u001b[0;34m.\u001b[0m\u001b[0mpermute\u001b[0m\u001b[0;34m(\u001b[0m\u001b[0;36m1\u001b[0m\u001b[0;34m,\u001b[0m \u001b[0;36m2\u001b[0m\u001b[0;34m,\u001b[0m \u001b[0;36m0\u001b[0m\u001b[0;34m)\u001b[0m\u001b[0;34m,\u001b[0m \u001b[0mcmap\u001b[0m\u001b[0;34m=\u001b[0m\u001b[0;34m\"gray\"\u001b[0m\u001b[0;34m)\u001b[0m\u001b[0;34m\u001b[0m\u001b[0;34m\u001b[0m\u001b[0m\n",
      "\u001b[0;32m<ipython-input-9-3f92d0558d1d>\u001b[0m in \u001b[0;36m__getitem__\u001b[0;34m(self, idx)\u001b[0m\n\u001b[1;32m     24\u001b[0m \u001b[0;34m\u001b[0m\u001b[0m\n\u001b[1;32m     25\u001b[0m         \u001b[0;31m# Load image from .npy file\u001b[0m\u001b[0;34m\u001b[0m\u001b[0;34m\u001b[0m\u001b[0m\n\u001b[0;32m---> 26\u001b[0;31m         \u001b[0mimage\u001b[0m \u001b[0;34m=\u001b[0m \u001b[0mnp\u001b[0m\u001b[0;34m.\u001b[0m\u001b[0mload\u001b[0m\u001b[0;34m(\u001b[0m\u001b[0mimage_path\u001b[0m\u001b[0;34m)\u001b[0m\u001b[0;34m\u001b[0m\u001b[0;34m\u001b[0m\u001b[0m\n\u001b[0m\u001b[1;32m     27\u001b[0m         \u001b[0mimage\u001b[0m \u001b[0;34m=\u001b[0m \u001b[0mnp\u001b[0m\u001b[0;34m.\u001b[0m\u001b[0mstack\u001b[0m\u001b[0;34m(\u001b[0m\u001b[0;34m[\u001b[0m\u001b[0mimage\u001b[0m\u001b[0;34m]\u001b[0m \u001b[0;34m*\u001b[0m \u001b[0;36m3\u001b[0m\u001b[0;34m,\u001b[0m \u001b[0maxis\u001b[0m\u001b[0;34m=\u001b[0m\u001b[0;34m-\u001b[0m\u001b[0;36m1\u001b[0m\u001b[0;34m)\u001b[0m\u001b[0;34m\u001b[0m\u001b[0;34m\u001b[0m\u001b[0m\n\u001b[1;32m     28\u001b[0m         \u001b[0mimage\u001b[0m \u001b[0;34m=\u001b[0m \u001b[0mtorch\u001b[0m\u001b[0;34m.\u001b[0m\u001b[0mfrom_numpy\u001b[0m\u001b[0;34m(\u001b[0m\u001b[0mimage\u001b[0m\u001b[0;34m)\u001b[0m\u001b[0;34m.\u001b[0m\u001b[0mfloat\u001b[0m\u001b[0;34m(\u001b[0m\u001b[0;34m)\u001b[0m\u001b[0;34m\u001b[0m\u001b[0;34m\u001b[0m\u001b[0m\n",
      "\u001b[0;32m/usr/local/lib/python3.10/dist-packages/numpy/lib/npyio.py\u001b[0m in \u001b[0;36mload\u001b[0;34m(file, mmap_mode, allow_pickle, fix_imports, encoding, max_header_size)\u001b[0m\n\u001b[1;32m    425\u001b[0m             \u001b[0mown_fid\u001b[0m \u001b[0;34m=\u001b[0m \u001b[0;32mFalse\u001b[0m\u001b[0;34m\u001b[0m\u001b[0;34m\u001b[0m\u001b[0m\n\u001b[1;32m    426\u001b[0m         \u001b[0;32melse\u001b[0m\u001b[0;34m:\u001b[0m\u001b[0;34m\u001b[0m\u001b[0;34m\u001b[0m\u001b[0m\n\u001b[0;32m--> 427\u001b[0;31m             \u001b[0mfid\u001b[0m \u001b[0;34m=\u001b[0m \u001b[0mstack\u001b[0m\u001b[0;34m.\u001b[0m\u001b[0menter_context\u001b[0m\u001b[0;34m(\u001b[0m\u001b[0mopen\u001b[0m\u001b[0;34m(\u001b[0m\u001b[0mos_fspath\u001b[0m\u001b[0;34m(\u001b[0m\u001b[0mfile\u001b[0m\u001b[0;34m)\u001b[0m\u001b[0;34m,\u001b[0m \u001b[0;34m\"rb\"\u001b[0m\u001b[0;34m)\u001b[0m\u001b[0;34m)\u001b[0m\u001b[0;34m\u001b[0m\u001b[0;34m\u001b[0m\u001b[0m\n\u001b[0m\u001b[1;32m    428\u001b[0m             \u001b[0mown_fid\u001b[0m \u001b[0;34m=\u001b[0m \u001b[0;32mTrue\u001b[0m\u001b[0;34m\u001b[0m\u001b[0;34m\u001b[0m\u001b[0m\n\u001b[1;32m    429\u001b[0m \u001b[0;34m\u001b[0m\u001b[0m\n",
      "\u001b[0;31mKeyboardInterrupt\u001b[0m: "
     ]
    },
    {
     "data": {
      "image/png": "[encoded data removed]",
      "text/plain": [
       "<Figure size 1500x1000 with 15 Axes>"
      ]
     },
     "metadata": {},
     "output_type": "display_data"
    }
   ],
   "source": [
    "# Define transformations\n",
    "transform = transforms.Compose([\n",
    "    # transforms.Resize((224, 224)),  # Resize for DenseNet/ResNet\n",
    "    # transforms.RandomHorizontalFlip(),\n",
    "    # transforms.ToTensor()\n",
    "])\n",
    "\n",
    "# Load train and validation datasets\n",
    "train_dataset = LensDataset(\"D:\\my_study\\GSOC\\dataset\\dataset\\train\", transform=transform)\n",
    "val_dataset = LensDataset(\"D:\\my_study\\GSOC\\dataset\\dataset\\val\", transform=transform)\n",
    "\n",
    "train_loader = DataLoader(train_dataset, batch_size=32, shuffle=True)\n",
    "val_loader = DataLoader(val_dataset, batch_size=32, shuffle=False)\n",
    "\n",
    "# Function to display sample images\n",
    "def show_class_samples(dataset, title, num_images=5):\n",
    "    fig, axes = plt.subplots(len(dataset.classes), num_images, figsize=(15, 10))\n",
    "    for class_idx, class_name in enumerate(dataset.classes):\n",
    "        class_samples = [dataset[i] for i in range(len(dataset)) if dataset.labels[i] == class_idx][:num_images]\n",
    "        for j, (image, label) in enumerate(class_samples):\n",
    "            axes[class_idx, j].imshow(image.permute(1, 2, 0), cmap=\"gray\")\n",
    "            axes[class_idx, j].set_title(f\"{title}: {class_name}\")\n",
    "            axes[class_idx, j].axis(\"off\")\n",
    "    plt.show()\n",
    "# Display samples from train and val set\n",
    "show_class_samples(train_dataset, \"Train Set\")\n",
    "show_class_samples(val_dataset, \"Validation Set\")"
   ]
  },
  {
   "cell_type": "code",
   "execution_count": 12,
   "metadata": {
    "execution": {
     "iopub.execute_input": "2025-03-26T17:48:05.074177Z",
     "iopub.status.busy": "2025-03-26T17:48:05.073763Z",
     "iopub.status.idle": "2025-03-26T17:48:12.345463Z",
     "shell.execute_reply": "2025-03-26T17:48:12.344778Z",
     "shell.execute_reply.started": "2025-03-26T17:48:05.074145Z"
    },
    "trusted": true
   },
   "outputs": [
    {
     "name": "stderr",
     "output_type": "stream",
     "text": [
      "\u001b[34m\u001b[1mwandb\u001b[0m: Using wandb-core as the SDK backend.  Please refer to https://wandb.me/wandb-core for more information.\n",
      "\u001b[34m\u001b[1mwandb\u001b[0m: Currently logged in as: \u001b[33mpechetti-1\u001b[0m. Use \u001b[1m`wandb login --relogin`\u001b[0m to force relogin\n",
      "\u001b[34m\u001b[1mwandb\u001b[0m: \u001b[33mWARNING\u001b[0m If you're specifying your api key in code, ensure this code is not shared publicly.\n",
      "\u001b[34m\u001b[1mwandb\u001b[0m: \u001b[33mWARNING\u001b[0m Consider setting the WANDB_API_KEY environment variable, or running `wandb login` from the command line.\n",
      "\u001b[34m\u001b[1mwandb\u001b[0m: Appending key for api.wandb.ai to your netrc file: /root/.netrc\n"
     ]
    },
    {
     "data": {
      "text/plain": [
       "True"
      ]
     },
     "execution_count": 12,
     "metadata": {},
     "output_type": "execute_result"
    }
   ],
   "source": [
    "from kaggle_secrets import UserSecretsClient\n",
    "\n",
    "user_secrets = UserSecretsClient()\n",
    "\n",
    "my_secret = user_secrets.get_secret(\"wandb_api_key\") \n",
    "\n",
    "wandb.login(key=my_secret)"
   ]
  },
  {
   "cell_type": "code",
   "execution_count": 31,
   "metadata": {
    "execution": {
     "iopub.execute_input": "2025-03-26T17:59:45.212659Z",
     "iopub.status.busy": "2025-03-26T17:59:45.212369Z",
     "iopub.status.idle": "2025-03-26T17:59:52.454494Z",
     "shell.execute_reply": "2025-03-26T17:59:52.453830Z",
     "shell.execute_reply.started": "2025-03-26T17:59:45.212634Z"
    },
    "trusted": true
   },
   "outputs": [
    {
     "data": {
      "text/html": [
       "Tracking run with wandb version 0.19.1"
      ],
      "text/plain": [
       "<IPython.core.display.HTML object>"
      ]
     },
     "metadata": {},
     "output_type": "display_data"
    },
    {
     "data": {
      "text/html": [
       "Run data is saved locally in <code>/kaggle/working/wandb/run-20250326_175945-ae3371ua</code>"
      ],
      "text/plain": [
       "<IPython.core.display.HTML object>"
      ]
     },
     "metadata": {},
     "output_type": "display_data"
    },
    {
     "data": {
      "text/html": [
       "Syncing run <strong><a href='https://wandb.ai/pechetti-1/lens_classification/runs/ae3371ua' target=\"_blank\">sage-leaf-2</a></strong> to <a href='https://wandb.ai/pechetti-1/lens_classification' target=\"_blank\">Weights & Biases</a> (<a href='https://wandb.me/developer-guide' target=\"_blank\">docs</a>)<br>"
      ],
      "text/plain": [
       "<IPython.core.display.HTML object>"
      ]
     },
     "metadata": {},
     "output_type": "display_data"
    },
    {
     "data": {
      "text/html": [
       " View project at <a href='https://wandb.ai/pechetti-1/lens_classification' target=\"_blank\">https://wandb.ai/pechetti-1/lens_classification</a>"
      ],
      "text/plain": [
       "<IPython.core.display.HTML object>"
      ]
     },
     "metadata": {},
     "output_type": "display_data"
    },
    {
     "data": {
      "text/html": [
       " View run at <a href='https://wandb.ai/pechetti-1/lens_classification/runs/ae3371ua' target=\"_blank\">https://wandb.ai/pechetti-1/lens_classification/runs/ae3371ua</a>"
      ],
      "text/plain": [
       "<IPython.core.display.HTML object>"
      ]
     },
     "metadata": {},
     "output_type": "display_data"
    }
   ],
   "source": [
    "wandb.init(project=\"lens_classification\")\n",
    "\n",
    "device = torch.device(\"cuda\" if torch.cuda.is_available() else \"cpu\")"
   ]
  },
  {
   "cell_type": "code",
   "execution_count": 32,
   "metadata": {
    "execution": {
     "iopub.execute_input": "2025-03-26T18:02:01.109096Z",
     "iopub.status.busy": "2025-03-26T18:02:01.108757Z",
     "iopub.status.idle": "2025-03-26T18:02:01.876282Z",
     "shell.execute_reply": "2025-03-26T18:02:01.875601Z",
     "shell.execute_reply.started": "2025-03-26T18:02:01.109072Z"
    },
    "trusted": true
   },
   "outputs": [
    {
     "name": "stderr",
     "output_type": "stream",
     "text": [
      "/usr/local/lib/python3.10/dist-packages/torchvision/models/_utils.py:208: UserWarning: The parameter 'pretrained' is deprecated since 0.13 and may be removed in the future, please use 'weights' instead.\n",
      "  warnings.warn(\n",
      "/usr/local/lib/python3.10/dist-packages/torchvision/models/_utils.py:223: UserWarning: Arguments other than a weight enum or `None` for 'weights' are deprecated since 0.13 and may be removed in the future. The current behavior is equivalent to passing `weights=DenseNet161_Weights.IMAGENET1K_V1`. You can also use `weights=DenseNet161_Weights.DEFAULT` to get the most up-to-date weights.\n",
      "  warnings.warn(msg)\n",
      "/usr/local/lib/python3.10/dist-packages/torchvision/models/_utils.py:223: UserWarning: Arguments other than a weight enum or `None` for 'weights' are deprecated since 0.13 and may be removed in the future. The current behavior is equivalent to passing `weights=ResNet18_Weights.IMAGENET1K_V1`. You can also use `weights=ResNet18_Weights.DEFAULT` to get the most up-to-date weights.\n",
      "  warnings.warn(msg)\n"
     ]
    }
   ],
   "source": [
    "device = torch.device(\"cuda\" if torch.cuda.is_available() else \"cpu\")\n",
    "densenet = models.densenet161(pretrained=True)\n",
    "resnet = models.resnet18(pretrained=True)\n",
    "\n",
    "# Modify the classifier for 3 classes\n",
    "densenet.classifier = nn.Sequential(\n",
    "    nn.Linear(2208, 1024),\n",
    "    nn.ReLU(),\n",
    "    nn.BatchNorm1d(1024),\n",
    "    nn.Dropout(p=0.33),\n",
    "    nn.Linear(1024, 64),\n",
    "    nn.ReLU(),\n",
    "    nn.BatchNorm1d(64),\n",
    "    nn.Dropout(p=0.33),\n",
    "    nn.Linear(64, 3)\n",
    ")\n",
    "\n",
    "resnet.fc = nn.Sequential(\n",
    "    nn.Linear(resnet.fc.in_features, 1024),\n",
    "    nn.ReLU(),\n",
    "    nn.BatchNorm1d(1024),\n",
    "    nn.Dropout(p=0.33),\n",
    "    nn.Linear(1024, 64),\n",
    "    nn.ReLU(),\n",
    "    nn.BatchNorm1d(64),\n",
    "    nn.Dropout(p=0.33),\n",
    "    nn.Linear(64, 3)\n",
    ")\n",
    "\n",
    "densenet.to(device)\n",
    "resnet.to(device)\n",
    "\n",
    "criterion = nn.CrossEntropyLoss()\n",
    "optimizer_densenet = optim.Adam(densenet.parameters(), lr=1e-4)\n",
    "optimizer_resnet = optim.Adam(resnet.parameters(), lr=1e-4)"
   ]
  },
  {
   "cell_type": "code",
   "execution_count": 33,
   "metadata": {
    "execution": {
     "iopub.execute_input": "2025-03-26T18:02:11.842416Z",
     "iopub.status.busy": "2025-03-26T18:02:11.842135Z",
     "iopub.status.idle": "2025-03-26T18:02:11.849978Z",
     "shell.execute_reply": "2025-03-26T18:02:11.849190Z",
     "shell.execute_reply.started": "2025-03-26T18:02:11.842395Z"
    },
    "trusted": true
   },
   "outputs": [],
   "source": [
    "sections_densenet = {\n",
    "    \"classifier\": (list(densenet.classifier.parameters()),5),\n",
    "    \"features_late\": (list(densenet.features[10:].parameters()),3),\n",
    "    \"features_mid\": (list(densenet.features[6:10].parameters()),7),\n",
    "    \"features_early\": (list(densenet.features[:6].parameters()),15)\n",
    "}\n",
    "\n",
    "sections_resnet = {\n",
    "    \"fc\": list(resnet.fc.parameters()),\n",
    "    \"layer4\": list(resnet.layer4.parameters()),\n",
    "    \"layer3\": list(resnet.layer3.parameters()),\n",
    "    \"layer2\": list(resnet.layer2.parameters()),\n",
    "    \"layer1\": list(resnet.layer1.parameters()),\n",
    "    \"conv1\": list(resnet.conv1.parameters())\n",
    "}"
   ]
  },
  {
   "cell_type": "code",
   "execution_count": 39,
   "metadata": {
    "execution": {
     "iopub.execute_input": "2025-03-26T18:03:12.313467Z",
     "iopub.status.busy": "2025-03-26T18:03:12.313189Z",
     "iopub.status.idle": "2025-03-26T18:03:12.323932Z",
     "shell.execute_reply": "2025-03-26T18:03:12.323126Z",
     "shell.execute_reply.started": "2025-03-26T18:03:12.313445Z"
    },
    "trusted": true
   },
   "outputs": [],
   "source": [
    "def train_model(model, optimizer, name, sections):\n",
    "    model.train()\n",
    "    for param in model.parameters():\n",
    "        param.requires_grad = False\n",
    "    \n",
    "    for section_name, (section_params,num_epochs) in sections.items():\n",
    "        for param in section_params:\n",
    "            param.requires_grad = True\n",
    "        \n",
    "        for epoch in range(num_epochs):  # Train each section until saturation\n",
    "            running_loss = 0.0\n",
    "            correct, total = 0, 0\n",
    "            model.train()\n",
    "            for images, labels in train_loader:\n",
    "                images, labels = images.to(device), labels.to(device)\n",
    "                optimizer.zero_grad()\n",
    "                outputs = model(images)\n",
    "                loss = criterion(outputs, labels)\n",
    "                loss.backward()\n",
    "                optimizer.step()\n",
    "                running_loss += loss.item()\n",
    "                correct += (outputs.argmax(1) == labels).sum().item()\n",
    "                total += labels.size(0)\n",
    "            train_loss = running_loss / len(train_loader)\n",
    "            train_acc = correct / total\n",
    "\n",
    "            if (epoch + 1) % 2 == 0:\n",
    "                torch.save(model.state_dict(), f\"{name}_{section_name}_epoch{epoch+1}.pth\")\n",
    "                 \n",
    "            # Validation\n",
    "            model.eval()\n",
    "            val_loss, val_correct, val_total = 0.0, 0, 0\n",
    "            with torch.no_grad():\n",
    "                for images, labels in val_loader:\n",
    "                    images, labels = images.to(device), labels.to(device)\n",
    "                    outputs = model(images)\n",
    "                    loss = criterion(outputs, labels)\n",
    "                    val_loss += loss.item()\n",
    "                    val_correct += (outputs.argmax(1) == labels).sum().item()\n",
    "                    val_total += labels.size(0)\n",
    "            val_loss /= len(val_loader)\n",
    "            val_acc = val_correct / val_total\n",
    "            \n",
    "            wandb.log({\n",
    "                f\"{name} Train Loss\": train_loss,\n",
    "                f\"{name} Train Accuracy\": train_acc,\n",
    "                f\"{name} Validation Loss\": val_loss,\n",
    "                f\"{name} Validation Accuracy\": val_acc\n",
    "            })\n",
    "            \n",
    "            print(f\"{name} {section_name} - Epoch {epoch+1}: Train Loss={train_loss:.4f}, Train Acc={train_acc:.4f}, Val Loss={val_loss:.4f}, Val Acc={val_acc:.4f}\")\n",
    "    "
   ]
  },
  {
   "cell_type": "code",
   "execution_count": 40,
   "metadata": {
    "execution": {
     "iopub.execute_input": "2025-03-26T18:03:14.870437Z",
     "iopub.status.busy": "2025-03-26T18:03:14.870125Z",
     "iopub.status.idle": "2025-03-26T18:03:14.878138Z",
     "shell.execute_reply": "2025-03-26T18:03:14.877329Z",
     "shell.execute_reply.started": "2025-03-26T18:03:14.870412Z"
    },
    "trusted": true
   },
   "outputs": [],
   "source": [
    "class LensDataset(Dataset):\n",
    "    def __init__(self, root_dir, transform=None):\n",
    "        self.root_dir = root_dir\n",
    "        self.transform = transform\n",
    "        self.classes = [\"no\", \"sphere\", \"vort\"]\n",
    "        self.image_paths = []\n",
    "        self.labels = []\n",
    "        \n",
    "        for label, class_name in enumerate(self.classes):\n",
    "            class_dir = os.path.join(root_dir, class_name)\n",
    "            for file in os.listdir(class_dir):\n",
    "                if file.endswith('.npy'):\n",
    "                    self.image_paths.append(os.path.join(class_dir, file))\n",
    "                    self.labels.append(label)\n",
    "\n",
    "    def __len__(self):\n",
    "        return len(self.image_paths)\n",
    "\n",
    "    def __getitem__(self, idx):\n",
    "        image_path = self.image_paths[idx]\n",
    "        label = self.labels[idx]\n",
    "        \n",
    "        image = np.load(image_path).astype(np.float32)\n",
    "        \n",
    "        # Ensure the image has 2D or 3D shape compatible with PyTorch\n",
    "        if image.ndim == 2:  # Grayscale image\n",
    "            image = np.stack([image] * 3, axis=0)  # Convert to 3 channels (C, H, W)\n",
    "        elif image.ndim == 3 and image.shape[0] == 1:  # Single-channel image\n",
    "            image = np.squeeze(image, axis=0)  # Remove the extra channel dimension\n",
    "            image = np.stack([image] * 3, axis=0)  # Convert to 3 channels\n",
    "        \n",
    "        if self.transform:\n",
    "            image = torch.tensor(image)  # Convert to tensor\n",
    "            image = self.transform(image)  # Apply transformations\n",
    "        \n",
    "        return image.to(device), torch.tensor(label, dtype=torch.long, device=device)"
   ]
  },
  {
   "cell_type": "code",
   "execution_count": 41,
   "metadata": {
    "execution": {
     "iopub.execute_input": "2025-03-26T18:03:17.080542Z",
     "iopub.status.busy": "2025-03-26T18:03:17.080229Z",
     "iopub.status.idle": "2025-03-26T18:03:17.143228Z",
     "shell.execute_reply": "2025-03-26T18:03:17.142588Z",
     "shell.execute_reply.started": "2025-03-26T18:03:17.080520Z"
    },
    "trusted": true
   },
   "outputs": [],
   "source": [
    "transform = transforms.Compose([\n",
    "    transforms.Resize((224, 224)),  # Resize for DenseNet/ResNet\n",
    "    transforms.RandomHorizontalFlip(),\n",
    "    # transforms.ToTensor(),\n",
    "])\n",
    "\n",
    "# Load train and validation datasets\n",
    "train_dataset = LensDataset(r\"/kaggle/input/multiclass-classification-gravitational-lensing/dataset/train\", transform=transform)\n",
    "val_dataset = LensDataset(r\"/kaggle/input/multiclass-classification-gravitational-lensing/dataset/val\", transform=transform)\n",
    "\n",
    "train_loader = DataLoader(train_dataset, batch_size=32, shuffle=True)\n",
    "val_loader = DataLoader(val_dataset, batch_size=32, shuffle=False)"
   ]
  },
  {
   "cell_type": "code",
   "execution_count": null,
   "metadata": {
    "execution": {
     "iopub.execute_input": "2025-03-26T18:03:19.412693Z",
     "iopub.status.busy": "2025-03-26T18:03:19.412398Z"
    },
    "trusted": true
   },
   "outputs": [
    {
     "name": "stdout",
     "output_type": "stream",
     "text": [
      "DenseNet classifier - Epoch 1: Train Loss=1.1342, Train Acc=0.3867, Val Loss=1.0625, Val Acc=0.4355\n",
      "DenseNet classifier - Epoch 2: Train Loss=1.0786, Train Acc=0.4229, Val Loss=1.0532, Val Acc=0.4464\n",
      "DenseNet classifier - Epoch 3: Train Loss=1.0588, Train Acc=0.4363, Val Loss=1.0449, Val Acc=0.4565\n",
      "DenseNet classifier - Epoch 4: Train Loss=1.0440, Train Acc=0.4532, Val Loss=1.0415, Val Acc=0.4559\n",
      "DenseNet classifier - Epoch 5: Train Loss=1.0349, Train Acc=0.4615, Val Loss=1.0397, Val Acc=0.4585\n",
      "DenseNet features_late - Epoch 1: Train Loss=1.0204, Train Acc=0.4693, Val Loss=0.9738, Val Acc=0.5080\n",
      "DenseNet features_late - Epoch 2: Train Loss=0.9426, Train Acc=0.5394, Val Loss=0.9573, Val Acc=0.5241\n",
      "DenseNet features_late - Epoch 3: Train Loss=0.8912, Train Acc=0.5748, Val Loss=0.9604, Val Acc=0.5205\n",
      "DenseNet features_mid - Epoch 1: Train Loss=0.7368, Train Acc=0.6731, Val Loss=0.5555, Val Acc=0.7800\n",
      "DenseNet features_mid - Epoch 2: Train Loss=0.4679, Train Acc=0.8185, Val Loss=0.5760, Val Acc=0.7585\n",
      "DenseNet features_mid - Epoch 3: Train Loss=0.3625, Train Acc=0.8638, Val Loss=0.3258, Val Acc=0.8743\n",
      "DenseNet features_mid - Epoch 4: Train Loss=0.3018, Train Acc=0.8903, Val Loss=0.3115, Val Acc=0.8839\n",
      "DenseNet features_mid - Epoch 5: Train Loss=0.2519, Train Acc=0.9101, Val Loss=0.2873, Val Acc=0.8941\n",
      "DenseNet features_mid - Epoch 6: Train Loss=0.2128, Train Acc=0.9239, Val Loss=0.2987, Val Acc=0.8884\n",
      "DenseNet features_mid - Epoch 7: Train Loss=0.1843, Train Acc=0.9361, Val Loss=0.2947, Val Acc=0.8885\n",
      "DenseNet features_early - Epoch 1: Train Loss=0.2083, Train Acc=0.9252, Val Loss=0.2622, Val Acc=0.9065\n",
      "DenseNet features_early - Epoch 2: Train Loss=0.1619, Train Acc=0.9428, Val Loss=0.2418, Val Acc=0.9196\n",
      "DenseNet features_early - Epoch 3: Train Loss=0.1411, Train Acc=0.9509, Val Loss=0.3105, Val Acc=0.8728\n",
      "DenseNet features_early - Epoch 4: Train Loss=0.1261, Train Acc=0.9563, Val Loss=0.2429, Val Acc=0.9105\n",
      "DenseNet features_early - Epoch 5: Train Loss=0.1141, Train Acc=0.9614, Val Loss=0.1890, Val Acc=0.9405\n",
      "DenseNet features_early - Epoch 6: Train Loss=0.1019, Train Acc=0.9657, Val Loss=0.2643, Val Acc=0.9227\n",
      "DenseNet features_early - Epoch 7: Train Loss=0.0915, Train Acc=0.9689, Val Loss=0.2716, Val Acc=0.9275\n",
      "DenseNet features_early - Epoch 8: Train Loss=0.0829, Train Acc=0.9713, Val Loss=0.2974, Val Acc=0.8927\n"
     ]
    }
   ],
   "source": [
    "train_model(densenet, optimizer_densenet, \"DenseNet\", sections_densenet)"
   ]
  },
  {
   "cell_type": "code",
   "execution_count": 30,
   "metadata": {
    "execution": {
     "iopub.execute_input": "2025-03-26T17:59:34.043352Z",
     "iopub.status.busy": "2025-03-26T17:59:34.043033Z",
     "iopub.status.idle": "2025-03-26T17:59:34.208984Z",
     "shell.execute_reply": "2025-03-26T17:59:34.208223Z",
     "shell.execute_reply.started": "2025-03-26T17:59:34.043324Z"
    },
    "trusted": true
   },
   "outputs": [],
   "source": [
    "import gc\n",
    "import torch\n",
    "\n",
    "gc.collect()\n",
    "torch.cuda.empty_cache()"
   ]
  },
  {
   "cell_type": "code",
   "execution_count": null,
   "metadata": {
    "trusted": true
   },
   "outputs": [],
   "source": []
  },
  {
   "cell_type": "code",
   "execution_count": null,
   "metadata": {
    "trusted": true
   },
   "outputs": [],
   "source": []
  },
  {
   "cell_type": "code",
   "execution_count": null,
   "metadata": {
    "trusted": true
   },
   "outputs": [],
   "source": []
  }
 ],
 "metadata": {
  "kaggle": {
   "accelerator": "gpu",
   "dataSources": [
    {
     "datasetId": 6968549,
     "sourceId": 11166824,
     "sourceType": "datasetVersion"
    }
   ],
   "dockerImageVersionId": 30919,
   "isGpuEnabled": true,
   "isInternetEnabled": true,
   "language": "python",
   "sourceType": "notebook"
  },
  "kernelspec": {
   "display_name": "Python 3",
   "language": "python",
   "name": "python3"
  },
  "language_info": {
   "codemirror_mode": {
    "name": "ipython",
    "version": 3
   },
   "file_extension": ".py",
   "mimetype": "text/x-python",
   "name": "python",
   "nbconvert_exporter": "python",
   "pygments_lexer": "ipython3",
   "version": "3.10.12"
  }
 },
 "nbformat": 4,
 "nbformat_minor": 4
}
