{
 "cells": [
  {
   "cell_type": "code",
   "execution_count": 1,
   "id": "bc71d02c",
   "metadata": {
    "execution": {
     "iopub.execute_input": "2025-03-26T21:15:13.123461Z",
     "iopub.status.busy": "2025-03-26T21:15:13.123131Z",
     "iopub.status.idle": "2025-03-26T21:15:23.976375Z",
     "shell.execute_reply": "2025-03-26T21:15:23.975655Z"
    },
    "papermill": {
     "duration": 10.860882,
     "end_time": "2025-03-26T21:15:23.978177",
     "exception": false,
     "start_time": "2025-03-26T21:15:13.117295",
     "status": "completed"
    },
    "tags": []
   },
   "outputs": [],
   "source": [
    "import os\n",
    "import numpy as np\n",
    "import torch\n",
    "import torch.nn as nn\n",
    "import torch.optim as optim\n",
    "import wandb\n",
    "from torchvision import models, transforms\n",
    "from torch.utils.data import Dataset, DataLoader\n",
    "from PIL import Image\n",
    "import matplotlib.pyplot as plt\n",
    "import random"
   ]
  },
  {
   "cell_type": "code",
   "execution_count": 2,
   "id": "69ffcf14",
   "metadata": {
    "_cell_guid": "b1076dfc-b9ad-4769-8c92-a6c4dae69d19",
    "_uuid": "8f2839f25d086af736a60e9eeb907d3b93b6e0e5",
    "execution": {
     "iopub.execute_input": "2025-03-26T21:15:23.987253Z",
     "iopub.status.busy": "2025-03-26T21:15:23.986831Z",
     "iopub.status.idle": "2025-03-26T21:15:23.990508Z",
     "shell.execute_reply": "2025-03-26T21:15:23.989801Z"
    },
    "papermill": {
     "duration": 0.009309,
     "end_time": "2025-03-26T21:15:23.991837",
     "exception": false,
     "start_time": "2025-03-26T21:15:23.982528",
     "status": "completed"
    },
    "tags": []
   },
   "outputs": [],
   "source": [
    "# # Define dataset class\n",
    "# class LensDataset(Dataset):\n",
    "#     def __init__(self, root_dir, transform=None):\n",
    "#         self.root_dir = root_dir\n",
    "#         self.transform = transform\n",
    "#         self.classes = [\"no\", \"sphere\", \"vort\"]\n",
    "#         self.image_paths = []\n",
    "#         self.labels = []\n",
    "        \n",
    "#         # Load file paths and labels\n",
    "#         for label, class_name in enumerate(self.classes):\n",
    "#             class_dir = os.path.join(root_dir, class_name)\n",
    "#             for file in os.listdir(class_dir):\n",
    "#                 if file.endswith('.npy'):\n",
    "#                     self.image_paths.append(os.path.join(class_dir, file))\n",
    "#                     self.labels.append(label)\n",
    "\n",
    "#     def __len__(self):\n",
    "#         return len(self.image_paths)\n",
    "\n",
    "#     def __getitem__(self, idx):\n",
    "#         image_path = self.image_paths[idx]\n",
    "#         label = self.labels[idx]\n",
    "        \n",
    "#         # Load image from .npy file\n",
    "#         image = np.load(image_path)\n",
    "#         image = np.stack([image] * 3, axis=-1)\n",
    "#         image = torch.from_numpy(image).float()\n",
    "\n",
    "            \n",
    "\n",
    "#         if self.transform:\n",
    "#             image = self.transform(image)\n",
    "\n",
    "#         return image, label\n",
    "\n"
   ]
  },
  {
   "cell_type": "code",
   "execution_count": 3,
   "id": "df31db51",
   "metadata": {
    "execution": {
     "iopub.execute_input": "2025-03-26T21:15:24.000301Z",
     "iopub.status.busy": "2025-03-26T21:15:24.000036Z",
     "iopub.status.idle": "2025-03-26T21:15:24.003654Z",
     "shell.execute_reply": "2025-03-26T21:15:24.002797Z"
    },
    "papermill": {
     "duration": 0.009483,
     "end_time": "2025-03-26T21:15:24.005010",
     "exception": false,
     "start_time": "2025-03-26T21:15:23.995527",
     "status": "completed"
    },
    "tags": []
   },
   "outputs": [],
   "source": [
    "# # Define transformations\n",
    "# transform = transforms.Compose([\n",
    "#     # transforms.Resize((224, 224)),  # Resize for DenseNet/ResNet\n",
    "#     # transforms.RandomHorizontalFlip(),\n",
    "#     # transforms.ToTensor()\n",
    "# ])\n",
    "\n",
    "# # Load train and validation datasets\n",
    "# train_dataset = LensDataset(\"/kaggle/input/multiclass-classification-gravitational-lensing/dataset/train\", transform=transform)\n",
    "# val_dataset = LensDataset(\"/kaggle/input/multiclass-classification-gravitational-lensing/dataset/val\", transform=transform)\n",
    "\n",
    "# train_loader = DataLoader(train_dataset, batch_size=32, shuffle=True)\n",
    "# val_loader = DataLoader(val_dataset, batch_size=32, shuffle=False)\n",
    "\n",
    "# # Function to display sample images\n",
    "# def show_class_samples(dataset, title, num_images=5):\n",
    "#     fig, axes = plt.subplots(len(dataset.classes), num_images, figsize=(15, 10))\n",
    "#     for class_idx, class_name in enumerate(dataset.classes):\n",
    "#         class_samples = [dataset[i] for i in range(len(dataset)) if dataset.labels[i] == class_idx][:num_images]\n",
    "#         for j, (image, label) in enumerate(class_samples):\n",
    "#             axes[class_idx, j].imshow(image.permute(1, 2, 0), cmap=\"gray\")\n",
    "#             axes[class_idx, j].set_title(f\"{title}: {class_name}\")\n",
    "#             axes[class_idx, j].axis(\"off\")\n",
    "#     plt.show()\n",
    "# # Display samples from train and val set\n",
    "# show_class_samples(train_dataset, \"Train Set\")\n",
    "# show_class_samples(val_dataset, \"Validation Set\")"
   ]
  },
  {
   "cell_type": "code",
   "execution_count": 4,
   "id": "4ef09757",
   "metadata": {
    "execution": {
     "iopub.execute_input": "2025-03-26T21:15:24.013360Z",
     "iopub.status.busy": "2025-03-26T21:15:24.013114Z",
     "iopub.status.idle": "2025-03-26T21:15:24.827492Z",
     "shell.execute_reply": "2025-03-26T21:15:24.826517Z"
    },
    "papermill": {
     "duration": 0.820084,
     "end_time": "2025-03-26T21:15:24.828905",
     "exception": false,
     "start_time": "2025-03-26T21:15:24.008821",
     "status": "completed"
    },
    "tags": []
   },
   "outputs": [
    {
     "name": "stderr",
     "output_type": "stream",
     "text": [
      "\u001b[34m\u001b[1mwandb\u001b[0m: Using wandb-core as the SDK backend.  Please refer to https://wandb.me/wandb-core for more information.\n",
      "\u001b[34m\u001b[1mwandb\u001b[0m: Currently logged in as: \u001b[33mpechetti-1\u001b[0m. Use \u001b[1m`wandb login --relogin`\u001b[0m to force relogin\n",
      "\u001b[34m\u001b[1mwandb\u001b[0m: \u001b[33mWARNING\u001b[0m If you're specifying your api key in code, ensure this code is not shared publicly.\n",
      "\u001b[34m\u001b[1mwandb\u001b[0m: \u001b[33mWARNING\u001b[0m Consider setting the WANDB_API_KEY environment variable, or running `wandb login` from the command line.\n",
      "\u001b[34m\u001b[1mwandb\u001b[0m: Appending key for api.wandb.ai to your netrc file: /root/.netrc\n"
     ]
    },
    {
     "data": {
      "text/plain": [
       "True"
      ]
     },
     "execution_count": 4,
     "metadata": {},
     "output_type": "execute_result"
    }
   ],
   "source": [
    "from kaggle_secrets import UserSecretsClient\n",
    "\n",
    "user_secrets = UserSecretsClient()\n",
    "\n",
    "my_secret = user_secrets.get_secret(\"wandb_api_key\") \n",
    "\n",
    "wandb.login(key=my_secret)"
   ]
  },
  {
   "cell_type": "code",
   "execution_count": 5,
   "id": "e7371c4c",
   "metadata": {
    "execution": {
     "iopub.execute_input": "2025-03-26T21:15:24.838272Z",
     "iopub.status.busy": "2025-03-26T21:15:24.837962Z",
     "iopub.status.idle": "2025-03-26T21:15:26.959192Z",
     "shell.execute_reply": "2025-03-26T21:15:26.958372Z"
    },
    "papermill": {
     "duration": 2.127938,
     "end_time": "2025-03-26T21:15:26.960996",
     "exception": false,
     "start_time": "2025-03-26T21:15:24.833058",
     "status": "completed"
    },
    "tags": []
   },
   "outputs": [
    {
     "name": "stderr",
     "output_type": "stream",
     "text": [
      "\u001b[34m\u001b[1mwandb\u001b[0m: Tracking run with wandb version 0.19.1\n",
      "\u001b[34m\u001b[1mwandb\u001b[0m: Run data is saved locally in \u001b[35m\u001b[1m/kaggle/working/wandb/run-20250326_211524-94an4kd3\u001b[0m\n",
      "\u001b[34m\u001b[1mwandb\u001b[0m: Run \u001b[1m`wandb offline`\u001b[0m to turn off syncing.\n",
      "\u001b[34m\u001b[1mwandb\u001b[0m: Syncing run \u001b[33mdrawn-armadillo-5\u001b[0m\n",
      "\u001b[34m\u001b[1mwandb\u001b[0m: ⭐️ View project at \u001b[34m\u001b[4mhttps://wandb.ai/pechetti-1/lens_classification\u001b[0m\n",
      "\u001b[34m\u001b[1mwandb\u001b[0m: 🚀 View run at \u001b[34m\u001b[4mhttps://wandb.ai/pechetti-1/lens_classification/runs/94an4kd3\u001b[0m\n"
     ]
    }
   ],
   "source": [
    "wandb.init(project=\"lens_classification\")\n",
    "\n",
    "device = torch.device(\"cuda\" if torch.cuda.is_available() else \"cpu\")"
   ]
  },
  {
   "cell_type": "code",
   "execution_count": 6,
   "id": "f9585a92",
   "metadata": {
    "execution": {
     "iopub.execute_input": "2025-03-26T21:15:26.971993Z",
     "iopub.status.busy": "2025-03-26T21:15:26.971693Z",
     "iopub.status.idle": "2025-03-26T21:15:29.348108Z",
     "shell.execute_reply": "2025-03-26T21:15:29.347281Z"
    },
    "papermill": {
     "duration": 2.384194,
     "end_time": "2025-03-26T21:15:29.349922",
     "exception": false,
     "start_time": "2025-03-26T21:15:26.965728",
     "status": "completed"
    },
    "tags": []
   },
   "outputs": [
    {
     "name": "stderr",
     "output_type": "stream",
     "text": [
      "/usr/local/lib/python3.10/dist-packages/torchvision/models/_utils.py:208: UserWarning: The parameter 'pretrained' is deprecated since 0.13 and may be removed in the future, please use 'weights' instead.\n",
      "  warnings.warn(\n",
      "/usr/local/lib/python3.10/dist-packages/torchvision/models/_utils.py:223: UserWarning: Arguments other than a weight enum or `None` for 'weights' are deprecated since 0.13 and may be removed in the future. The current behavior is equivalent to passing `weights=DenseNet161_Weights.IMAGENET1K_V1`. You can also use `weights=DenseNet161_Weights.DEFAULT` to get the most up-to-date weights.\n",
      "  warnings.warn(msg)\n",
      "Downloading: \"https://download.pytorch.org/models/densenet161-8d451a50.pth\" to /root/.cache/torch/hub/checkpoints/densenet161-8d451a50.pth\n",
      "100%|██████████| 110M/110M [00:00<00:00, 166MB/s] \n",
      "/usr/local/lib/python3.10/dist-packages/torchvision/models/_utils.py:223: UserWarning: Arguments other than a weight enum or `None` for 'weights' are deprecated since 0.13 and may be removed in the future. The current behavior is equivalent to passing `weights=ResNet18_Weights.IMAGENET1K_V1`. You can also use `weights=ResNet18_Weights.DEFAULT` to get the most up-to-date weights.\n",
      "  warnings.warn(msg)\n",
      "Downloading: \"https://download.pytorch.org/models/resnet18-f37072fd.pth\" to /root/.cache/torch/hub/checkpoints/resnet18-f37072fd.pth\n",
      "100%|██████████| 44.7M/44.7M [00:00<00:00, 166MB/s]\n"
     ]
    }
   ],
   "source": [
    "device = torch.device(\"cuda\" if torch.cuda.is_available() else \"cpu\")\n",
    "densenet = models.densenet161(pretrained=True)\n",
    "resnet = models.resnet18(pretrained=True)\n",
    "\n",
    "# Modify the classifier for 3 classes\n",
    "densenet.classifier = nn.Sequential(\n",
    "    nn.Linear(2208, 1024),\n",
    "    nn.ReLU(),\n",
    "    nn.BatchNorm1d(1024),\n",
    "    nn.Dropout(p=0.33),\n",
    "    nn.Linear(1024, 64),\n",
    "    nn.ReLU(),\n",
    "    nn.BatchNorm1d(64),\n",
    "    nn.Dropout(p=0.33),\n",
    "    nn.Linear(64, 3)\n",
    ")\n",
    "\n",
    "resnet.fc = nn.Sequential(\n",
    "    nn.Linear(resnet.fc.in_features, 1024),\n",
    "    nn.ReLU(),\n",
    "    nn.BatchNorm1d(1024),\n",
    "    nn.Dropout(p=0.33),\n",
    "    nn.Linear(1024, 64),\n",
    "    nn.ReLU(),\n",
    "    nn.BatchNorm1d(64),\n",
    "    nn.Dropout(p=0.33),\n",
    "    nn.Linear(64, 3)\n",
    ")\n",
    "\n",
    "densenet.to(device)\n",
    "resnet.to(device)\n",
    "\n",
    "criterion = nn.CrossEntropyLoss()\n",
    "# optimizer_densenet = optim.Adam(densenet.parameters(), lr=1e-4)\n",
    "# optimizer_resnet = optim.Adam(resnet.parameters(), lr=1e-4)"
   ]
  },
  {
   "cell_type": "code",
   "execution_count": 7,
   "id": "306fbe62",
   "metadata": {
    "execution": {
     "iopub.execute_input": "2025-03-26T21:15:29.362496Z",
     "iopub.status.busy": "2025-03-26T21:15:29.362141Z",
     "iopub.status.idle": "2025-03-26T21:15:29.365490Z",
     "shell.execute_reply": "2025-03-26T21:15:29.364715Z"
    },
    "papermill": {
     "duration": 0.011275,
     "end_time": "2025-03-26T21:15:29.367038",
     "exception": false,
     "start_time": "2025-03-26T21:15:29.355763",
     "status": "completed"
    },
    "tags": []
   },
   "outputs": [],
   "source": [
    "# scheduler_resnet = optim.lr_scheduler.StepLR(optimizer_resnet, step_size=8, gamma=0.1)"
   ]
  },
  {
   "cell_type": "code",
   "execution_count": 8,
   "id": "5758458f",
   "metadata": {
    "execution": {
     "iopub.execute_input": "2025-03-26T21:15:29.379663Z",
     "iopub.status.busy": "2025-03-26T21:15:29.379308Z",
     "iopub.status.idle": "2025-03-26T21:15:29.382983Z",
     "shell.execute_reply": "2025-03-26T21:15:29.382186Z"
    },
    "papermill": {
     "duration": 0.011499,
     "end_time": "2025-03-26T21:15:29.384325",
     "exception": false,
     "start_time": "2025-03-26T21:15:29.372826",
     "status": "completed"
    },
    "tags": []
   },
   "outputs": [],
   "source": [
    "# sections_densenet = {\n",
    "#     \"classifier\": (list(densenet.classifier.parameters()),5),\n",
    "#     \"features_late\": (list(densenet.features[10:].parameters()),3),\n",
    "#     \"features_mid\": (list(densenet.features[6:10].parameters()),7),\n",
    "#     \"features_early\": (list(densenet.features[:6].parameters()),15)\n",
    "# }\n",
    "\n",
    "# sections_resnet = {\n",
    "#     \"fc\": (list(resnet.fc.parameters()),3),\n",
    "#     \"layer4\": (list(resnet.layer4.parameters()),3),\n",
    "#     \"layer3\": (list(resnet.layer3.parameters()),3),\n",
    "#     \"layer2\": (list(resnet.layer2.parameters()),3),\n",
    "#     \"layer1\": (list(resnet.layer1.parameters()),3),\n",
    "#     \"conv1\": (list(resnet.conv1.parameters()),3)\n",
    "# }"
   ]
  },
  {
   "cell_type": "code",
   "execution_count": 9,
   "id": "77c6ebb1",
   "metadata": {
    "execution": {
     "iopub.execute_input": "2025-03-26T21:15:29.396179Z",
     "iopub.status.busy": "2025-03-26T21:15:29.395894Z",
     "iopub.status.idle": "2025-03-26T21:15:29.404304Z",
     "shell.execute_reply": "2025-03-26T21:15:29.403522Z"
    },
    "papermill": {
     "duration": 0.01594,
     "end_time": "2025-03-26T21:15:29.405720",
     "exception": false,
     "start_time": "2025-03-26T21:15:29.389780",
     "status": "completed"
    },
    "tags": []
   },
   "outputs": [],
   "source": [
    "def train_model(model, optimizer, scheduler, name):\n",
    "    # model.train()\n",
    "    # for param in model.parameters():\n",
    "    #     param.requires_grad = False\n",
    "    \n",
    "    # for section_name, (section_params,num_epochs) in sections.items():\n",
    "    #     for param in section_params:\n",
    "    #         param.requires_grad = True\n",
    "        \n",
    "    for epoch in range(15):  # Train each section until saturation\n",
    "        running_loss = 0.0\n",
    "        correct, total = 0, 0\n",
    "        model.train()\n",
    "        for images, labels in train_loader:\n",
    "            images, labels = images.to(device), labels.to(device)\n",
    "            optimizer.zero_grad()\n",
    "            outputs = model(images)\n",
    "            loss = criterion(outputs, labels)\n",
    "            loss.backward()\n",
    "            optimizer.step()\n",
    "            running_loss += loss.item()\n",
    "            correct += (outputs.argmax(1) == labels).sum().item()\n",
    "            total += labels.size(0)\n",
    "        train_loss = running_loss / len(train_loader)\n",
    "        train_acc = correct / total\n",
    "\n",
    "        if (epoch + 1) % 2 == 0:\n",
    "            torch.save(model.state_dict(), f\"{name}_epoch{epoch+1}.pth\")\n",
    "             \n",
    "        # Validation\n",
    "        model.eval()\n",
    "        val_loss, val_correct, val_total = 0.0, 0, 0\n",
    "        with torch.no_grad():\n",
    "            for images, labels in val_loader:\n",
    "                images, labels = images.to(device), labels.to(device)\n",
    "                outputs = model(images)\n",
    "                loss = criterion(outputs, labels)\n",
    "                val_loss += loss.item()\n",
    "                val_correct += (outputs.argmax(1) == labels).sum().item()\n",
    "                val_total += labels.size(0)\n",
    "        val_loss /= len(val_loader)\n",
    "        val_acc = val_correct / val_total\n",
    "        \n",
    "        wandb.log({\n",
    "            f\"{name} Train Loss\": train_loss,\n",
    "            f\"{name} Train Accuracy\": train_acc,\n",
    "            f\"{name} Validation Loss\": val_loss,\n",
    "            f\"{name} Validation Accuracy\": val_acc\n",
    "        })\n",
    "        \n",
    "        print(f\"{name}- Epoch {epoch+1}: Train Loss={train_loss:.4f}, Train Acc={train_acc:.4f}, Val Loss={val_loss:.4f}, Val Acc={val_acc:.4f}\")\n",
    "        scheduler.step()\n",
    "    "
   ]
  },
  {
   "cell_type": "code",
   "execution_count": 10,
   "id": "4a0b5f4a",
   "metadata": {
    "execution": {
     "iopub.execute_input": "2025-03-26T21:15:29.418162Z",
     "iopub.status.busy": "2025-03-26T21:15:29.417872Z",
     "iopub.status.idle": "2025-03-26T21:15:29.425408Z",
     "shell.execute_reply": "2025-03-26T21:15:29.424580Z"
    },
    "papermill": {
     "duration": 0.015526,
     "end_time": "2025-03-26T21:15:29.426916",
     "exception": false,
     "start_time": "2025-03-26T21:15:29.411390",
     "status": "completed"
    },
    "tags": []
   },
   "outputs": [],
   "source": [
    "class LensDataset(Dataset):\n",
    "    def __init__(self, root_dir, transform=None):\n",
    "        self.root_dir = root_dir\n",
    "        self.transform = transform\n",
    "        self.classes = [\"no\", \"sphere\", \"vort\"]\n",
    "        self.image_paths = []\n",
    "        self.labels = []\n",
    "        \n",
    "        for label, class_name in enumerate(self.classes):\n",
    "            class_dir = os.path.join(root_dir, class_name)\n",
    "            for file in os.listdir(class_dir):\n",
    "                if file.endswith('.npy'):\n",
    "                    self.image_paths.append(os.path.join(class_dir, file))\n",
    "                    self.labels.append(label)\n",
    "\n",
    "    def __len__(self):\n",
    "        return len(self.image_paths)\n",
    "\n",
    "    def __getitem__(self, idx):\n",
    "        image_path = self.image_paths[idx]\n",
    "        label = self.labels[idx]\n",
    "        \n",
    "        image = np.load(image_path).astype(np.float32)\n",
    "        \n",
    "        # Ensure the image has 2D or 3D shape compatible with PyTorch\n",
    "        if image.ndim == 2:  # Grayscale image\n",
    "            image = np.stack([image] * 3, axis=0)  # Convert to 3 channels (C, H, W)\n",
    "        elif image.ndim == 3 and image.shape[0] == 1:  # Single-channel image\n",
    "            image = np.squeeze(image, axis=0)  # Remove the extra channel dimension\n",
    "            image = np.stack([image] * 3, axis=0)  # Convert to 3 channels\n",
    "        \n",
    "        if self.transform:\n",
    "            image = torch.tensor(image)  # Convert to tensor\n",
    "            image = self.transform(image)  # Apply transformations\n",
    "        \n",
    "        return image.to(device), torch.tensor(label, dtype=torch.long, device=device)"
   ]
  },
  {
   "cell_type": "code",
   "execution_count": 11,
   "id": "f632aeb4",
   "metadata": {
    "execution": {
     "iopub.execute_input": "2025-03-26T21:15:29.439088Z",
     "iopub.status.busy": "2025-03-26T21:15:29.438790Z",
     "iopub.status.idle": "2025-03-26T21:15:29.712802Z",
     "shell.execute_reply": "2025-03-26T21:15:29.711730Z"
    },
    "papermill": {
     "duration": 0.28238,
     "end_time": "2025-03-26T21:15:29.715035",
     "exception": false,
     "start_time": "2025-03-26T21:15:29.432655",
     "status": "completed"
    },
    "tags": []
   },
   "outputs": [],
   "source": [
    "transform = transforms.Compose([\n",
    "    transforms.Resize((224, 224)),  # Resize for DenseNet/ResNet\n",
    "    transforms.RandomHorizontalFlip(),\n",
    "    # transforms.ToTensor(),\n",
    "])\n",
    "\n",
    "# Load train and validation datasets\n",
    "train_dataset = LensDataset(r\"/kaggle/input/multiclass-classification-gravitational-lensing/dataset/train\", transform=transform)\n",
    "val_dataset = LensDataset(r\"/kaggle/input/multiclass-classification-gravitational-lensing/dataset/val\", transform=transform)\n",
    "\n",
    "train_loader = DataLoader(train_dataset, batch_size=32, shuffle=True)\n",
    "val_loader = DataLoader(val_dataset, batch_size=32, shuffle=False)"
   ]
  },
  {
   "cell_type": "code",
   "execution_count": 12,
   "id": "5774e05d",
   "metadata": {
    "execution": {
     "iopub.execute_input": "2025-03-26T21:15:29.727624Z",
     "iopub.status.busy": "2025-03-26T21:15:29.727242Z",
     "iopub.status.idle": "2025-03-26T21:15:29.730794Z",
     "shell.execute_reply": "2025-03-26T21:15:29.729868Z"
    },
    "papermill": {
     "duration": 0.011253,
     "end_time": "2025-03-26T21:15:29.732264",
     "exception": false,
     "start_time": "2025-03-26T21:15:29.721011",
     "status": "completed"
    },
    "tags": []
   },
   "outputs": [],
   "source": [
    "# train_model(densenet, optimizer_densenet, \"DenseNet\", sections_densenet)"
   ]
  },
  {
   "cell_type": "code",
   "execution_count": 13,
   "id": "82a207ef",
   "metadata": {
    "execution": {
     "iopub.execute_input": "2025-03-26T21:15:29.744372Z",
     "iopub.status.busy": "2025-03-26T21:15:29.744041Z",
     "iopub.status.idle": "2025-03-26T21:15:29.747683Z",
     "shell.execute_reply": "2025-03-26T21:15:29.746730Z"
    },
    "papermill": {
     "duration": 0.011447,
     "end_time": "2025-03-26T21:15:29.749265",
     "exception": false,
     "start_time": "2025-03-26T21:15:29.737818",
     "status": "completed"
    },
    "tags": []
   },
   "outputs": [],
   "source": [
    "# train_model(resnet, optimizer_resnet, scheduler_resnet, \"ResNet\", sections_resnet)"
   ]
  },
  {
   "cell_type": "code",
   "execution_count": 14,
   "id": "e2861f5f",
   "metadata": {
    "execution": {
     "iopub.execute_input": "2025-03-26T21:15:29.761906Z",
     "iopub.status.busy": "2025-03-26T21:15:29.761536Z",
     "iopub.status.idle": "2025-03-26T23:25:49.289235Z",
     "shell.execute_reply": "2025-03-26T23:25:49.288289Z"
    },
    "papermill": {
     "duration": 7819.542007,
     "end_time": "2025-03-26T23:25:49.296966",
     "exception": false,
     "start_time": "2025-03-26T21:15:29.754959",
     "status": "completed"
    },
    "tags": []
   },
   "outputs": [
    {
     "name": "stdout",
     "output_type": "stream",
     "text": [
      "Ensemble- Epoch 1: Train Loss=0.7987, Train Acc=0.6166, Val Loss=0.4588, Val Acc=0.8329\n",
      "Ensemble- Epoch 2: Train Loss=0.3803, Train Acc=0.8647, Val Loss=0.2979, Val Acc=0.8983\n",
      "Ensemble- Epoch 3: Train Loss=0.2883, Train Acc=0.9028, Val Loss=0.2515, Val Acc=0.9091\n",
      "Ensemble- Epoch 4: Train Loss=0.2443, Train Acc=0.9172, Val Loss=0.2230, Val Acc=0.9233\n",
      "Ensemble- Epoch 5: Train Loss=0.2134, Train Acc=0.9283, Val Loss=0.2149, Val Acc=0.9284\n",
      "Ensemble- Epoch 6: Train Loss=0.1336, Train Acc=0.9575, Val Loss=0.1414, Val Acc=0.9532\n",
      "Ensemble- Epoch 7: Train Loss=0.1042, Train Acc=0.9696, Val Loss=0.1342, Val Acc=0.9553\n",
      "Ensemble- Epoch 8: Train Loss=0.0901, Train Acc=0.9735, Val Loss=0.1254, Val Acc=0.9585\n",
      "Ensemble- Epoch 9: Train Loss=0.0763, Train Acc=0.9783, Val Loss=0.1324, Val Acc=0.9553\n",
      "Ensemble- Epoch 10: Train Loss=0.0662, Train Acc=0.9811, Val Loss=0.1320, Val Acc=0.9587\n",
      "Ensemble- Epoch 11: Train Loss=0.0493, Train Acc=0.9877, Val Loss=0.1291, Val Acc=0.9587\n",
      "Ensemble- Epoch 12: Train Loss=0.0457, Train Acc=0.9889, Val Loss=0.1286, Val Acc=0.9612\n",
      "Ensemble- Epoch 13: Train Loss=0.0414, Train Acc=0.9900, Val Loss=0.1318, Val Acc=0.9603\n",
      "Ensemble- Epoch 14: Train Loss=0.0398, Train Acc=0.9904, Val Loss=0.1326, Val Acc=0.9591\n",
      "Ensemble- Epoch 15: Train Loss=0.0362, Train Acc=0.9927, Val Loss=0.1307, Val Acc=0.9603\n"
     ]
    }
   ],
   "source": [
    "class EnsembleModel(nn.Module):\n",
    "    def __init__(self, model1, model2):\n",
    "        super(EnsembleModel, self).__init__()\n",
    "        self.model1 = model1\n",
    "        self.model2 = model2\n",
    "\n",
    "    def forward(self, x):\n",
    "        out1 = self.model1(x)\n",
    "        out2 = self.model2(x)\n",
    "        return (out1 + out2) / 2  # Averaging predictions\n",
    "\n",
    "# Create ensemble model\n",
    "ensemble_model = EnsembleModel(densenet, resnet).to(device)\n",
    "\n",
    "# Train ensemble\n",
    "optimizer_ensemble = optim.Adam(ensemble_model.parameters(), lr=1e-4)\n",
    "scheduler_ensemble = optim.lr_scheduler.StepLR(optimizer_ensemble, step_size=5, gamma=0.1)\n",
    "train_model(ensemble_model, optimizer_ensemble, scheduler_ensemble, \"Ensemble\")"
   ]
  },
  {
   "cell_type": "code",
   "execution_count": 15,
   "id": "cb9ce0f4",
   "metadata": {
    "execution": {
     "iopub.execute_input": "2025-03-26T23:25:49.310164Z",
     "iopub.status.busy": "2025-03-26T23:25:49.309889Z",
     "iopub.status.idle": "2025-03-26T23:25:49.786900Z",
     "shell.execute_reply": "2025-03-26T23:25:49.785823Z"
    },
    "papermill": {
     "duration": 0.485806,
     "end_time": "2025-03-26T23:25:49.788846",
     "exception": false,
     "start_time": "2025-03-26T23:25:49.303040",
     "status": "completed"
    },
    "tags": []
   },
   "outputs": [],
   "source": [
    "import gc\n",
    "import torch\n",
    "\n",
    "gc.collect()\n",
    "torch.cuda.empty_cache()"
   ]
  },
  {
   "cell_type": "code",
   "execution_count": null,
   "id": "cca3f12e",
   "metadata": {
    "papermill": {
     "duration": 0.006081,
     "end_time": "2025-03-26T23:25:49.801748",
     "exception": false,
     "start_time": "2025-03-26T23:25:49.795667",
     "status": "completed"
    },
    "tags": []
   },
   "outputs": [],
   "source": []
  },
  {
   "cell_type": "code",
   "execution_count": null,
   "id": "cea5e7a5",
   "metadata": {
    "papermill": {
     "duration": 0.005751,
     "end_time": "2025-03-26T23:25:49.813572",
     "exception": false,
     "start_time": "2025-03-26T23:25:49.807821",
     "status": "completed"
    },
    "tags": []
   },
   "outputs": [],
   "source": []
  },
  {
   "cell_type": "code",
   "execution_count": null,
   "id": "eac4455d",
   "metadata": {
    "papermill": {
     "duration": 0.005703,
     "end_time": "2025-03-26T23:25:49.825253",
     "exception": false,
     "start_time": "2025-03-26T23:25:49.819550",
     "status": "completed"
    },
    "tags": []
   },
   "outputs": [],
   "source": []
  }
 ],
 "metadata": {
  "kaggle": {
   "accelerator": "gpu",
   "dataSources": [
    {
     "datasetId": 6968549,
     "sourceId": 11166824,
     "sourceType": "datasetVersion"
    }
   ],
   "dockerImageVersionId": 30919,
   "isGpuEnabled": true,
   "isInternetEnabled": true,
   "language": "python",
   "sourceType": "notebook"
  },
  "kernelspec": {
   "display_name": "Python 3",
   "language": "python",
   "name": "python3"
  },
  "language_info": {
   "codemirror_mode": {
    "name": "ipython",
    "version": 3
   },
   "file_extension": ".py",
   "mimetype": "text/x-python",
   "name": "python",
   "nbconvert_exporter": "python",
   "pygments_lexer": "ipython3",
   "version": "3.10.12"
  },
  "papermill": {
   "default_parameters": {},
   "duration": 7842.157212,
   "end_time": "2025-03-26T23:25:52.265583",
   "environment_variables": {},
   "exception": null,
   "input_path": "__notebook__.ipynb",
   "output_path": "__notebook__.ipynb",
   "parameters": {},
   "start_time": "2025-03-26T21:15:10.108371",
   "version": "2.6.0"
  }
 },
 "nbformat": 4,
 "nbformat_minor": 5
}
